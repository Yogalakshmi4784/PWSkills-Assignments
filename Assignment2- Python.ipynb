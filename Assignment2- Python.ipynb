{
 "cells": [
  {
   "cell_type": "markdown",
   "id": "6955cfb3-0cf8-4e9c-9faf-0648eaf7aa99",
   "metadata": {},
   "source": [
    "## Q1. Comments\n",
    "\n",
    "In Python, there are three types of comments:\n",
    "\n",
    "- Single-line comments: Single-line comments are used to add comments on a single line. They are preceded by the hash symbol (#). \n",
    "\n",
    "eg:\n",
    "\n",
    "  (# This is a single-line comment)\n",
    "  \n",
    "print(\"Hello, World!\")\n",
    "\n",
    "- Multi-line comments: Docstrings are typically used to provide documentation for functions, classes, or modules. They are enclosed in triple quotes (either single or double) and can span multiple lines.\n",
    "\n",
    "eg: '''\n",
    "\n",
    "This is a multi-line comment (docstring).\n",
    "\n",
    "It can span multiple lines and is often used for documentation.\n",
    "\n",
    "'''\n",
    "\n",
    "- Inline comments: Inline comments are comments that appear on the same line as code and provide explanations for specific lines of code. They are usually preceded by a hash symbol (#)\n",
    "\n",
    "x = 5  # Assign the value 5 to the variable x"
   ]
  },
  {
   "cell_type": "markdown",
   "id": "1469729a-0d37-4880-ad22-076dafd00984",
   "metadata": {},
   "source": [
    "## Q2. Variables are something that holds values, which can be assigned a value with.\n",
    "\n",
    "For eg: students=['Vani','Veena','Yoga']\n",
    "\n",
    "students is a list variable which holds values for student names."
   ]
  },
  {
   "cell_type": "markdown",
   "id": "b25717e1-8643-434d-b44d-28d2a9ebd98a",
   "metadata": {},
   "source": [
    "## Q3. Conversion from one datatype to another\n",
    "\n",
    "a= 5\n",
    "\n",
    "To convert a to a string, use str(conversion variable)"
   ]
  },
  {
   "cell_type": "code",
   "execution_count": 1,
   "id": "7f17dcd1-1811-465c-b802-cc7e3a99f6c5",
   "metadata": {},
   "outputs": [],
   "source": [
    "a=5"
   ]
  },
  {
   "cell_type": "code",
   "execution_count": 2,
   "id": "5f244280-42bb-40c3-be5e-3d5a841445a2",
   "metadata": {},
   "outputs": [
    {
     "data": {
      "text/plain": [
       "int"
      ]
     },
     "execution_count": 2,
     "metadata": {},
     "output_type": "execute_result"
    }
   ],
   "source": [
    "type(a)"
   ]
  },
  {
   "cell_type": "code",
   "execution_count": 6,
   "id": "cdb27e06-74a7-408b-9fa6-234f963af689",
   "metadata": {},
   "outputs": [],
   "source": [
    "b=str(a)"
   ]
  },
  {
   "cell_type": "code",
   "execution_count": 7,
   "id": "165b8e26-a016-4358-9da6-b89df855e6a5",
   "metadata": {},
   "outputs": [
    {
     "data": {
      "text/plain": [
       "'5'"
      ]
     },
     "execution_count": 7,
     "metadata": {},
     "output_type": "execute_result"
    }
   ],
   "source": [
    "b"
   ]
  },
  {
   "cell_type": "code",
   "execution_count": 8,
   "id": "c03529dc-efc5-4cf2-be09-8e58a82810ed",
   "metadata": {},
   "outputs": [
    {
     "data": {
      "text/plain": [
       "str"
      ]
     },
     "execution_count": 8,
     "metadata": {},
     "output_type": "execute_result"
    }
   ],
   "source": [
    "type(b)"
   ]
  },
  {
   "cell_type": "markdown",
   "id": "779f9831-055c-4afb-a579-2e052214566a",
   "metadata": {},
   "source": [
    "## Q4. Writing and executing a python script from a command line\n",
    "\n",
    "- Depending on your operating system (Windows, macOS, Linux), open a command prompt or terminal window\n",
    "- create a Python script file with a .py extension. For example, you can create a file named myscript.py.\n",
    "- Inside the script file, write your Python code. Here's a simple example: print(\"Hello World\")\n",
    "- Save your script file with the .py extension.\n",
    "- In the command prompt or terminal, navigate to the directory where your Python script is located.\n",
    "- To run your Python script, you can use the python command followed by the script's filename. For example: \n",
    "  python myscript.py\n",
    "- You will be able to see the output Hello World in the command prompt or terminal."
   ]
  },
  {
   "cell_type": "markdown",
   "id": "76295df9-e702-4724-b18d-ae6c352a87a5",
   "metadata": {},
   "source": [
    "## Q5. my_list = [1, 2, 3, 4, 5]\n",
    "sub list [2,3]"
   ]
  },
  {
   "cell_type": "code",
   "execution_count": 1,
   "id": "bef7c24a-de48-4a86-8957-c13650e42869",
   "metadata": {},
   "outputs": [],
   "source": [
    "my_list=[1,2,3,4,5]"
   ]
  },
  {
   "cell_type": "code",
   "execution_count": 2,
   "id": "f405e8ef-c0a0-49fd-b41b-723b1f2190db",
   "metadata": {},
   "outputs": [
    {
     "data": {
      "text/plain": [
       "[2, 3]"
      ]
     },
     "execution_count": 2,
     "metadata": {},
     "output_type": "execute_result"
    }
   ],
   "source": [
    "my_list[1:3]"
   ]
  },
  {
   "cell_type": "markdown",
   "id": "96c20afe-e0ba-48d8-8a08-43ae0238fade",
   "metadata": {},
   "source": [
    "## Q6. What is a complex number in mathematics, and how is it represented in Python?\n",
    "\n",
    "A complex number is a number that can be expressed in the form a + bi, where a and b are real numbers, and i is the imaginary unit, defined as the square root of -1. In python it is represented as complex data type, eg: 3+2j"
   ]
  },
  {
   "cell_type": "code",
   "execution_count": 5,
   "id": "fefdb226-b99a-41fe-8a0b-e8c9ca392f0a",
   "metadata": {},
   "outputs": [],
   "source": [
    "# creating complex numbers\n",
    "z = complex(3,2)"
   ]
  },
  {
   "cell_type": "code",
   "execution_count": 6,
   "id": "4bb23eeb-a5d4-47c1-9cfb-597d985d20db",
   "metadata": {},
   "outputs": [
    {
     "data": {
      "text/plain": [
       "(3+2j)"
      ]
     },
     "execution_count": 6,
     "metadata": {},
     "output_type": "execute_result"
    }
   ],
   "source": [
    "z"
   ]
  },
  {
   "cell_type": "markdown",
   "id": "85660067-8d0d-4bdc-ad30-f7c71515c880",
   "metadata": {},
   "source": [
    "## Q7. What is the correct way to declare a variable named age and assign the value 25 to it?\n",
    "\n",
    "age=25"
   ]
  },
  {
   "cell_type": "markdown",
   "id": "db937e7a-7def-44d3-b708-eb8e0deb2173",
   "metadata": {},
   "source": [
    "## Q8. Declare a variable named price and assign the value 9.99 to it. What data type does this variable belong to?"
   ]
  },
  {
   "cell_type": "code",
   "execution_count": 7,
   "id": "4bea3529-f3be-4576-905a-bf295ea08846",
   "metadata": {},
   "outputs": [],
   "source": [
    "price=9.99"
   ]
  },
  {
   "cell_type": "code",
   "execution_count": 8,
   "id": "5cdf7b75-cb02-4053-92ff-13dba815dc5f",
   "metadata": {},
   "outputs": [
    {
     "data": {
      "text/plain": [
       "float"
      ]
     },
     "execution_count": 8,
     "metadata": {},
     "output_type": "execute_result"
    }
   ],
   "source": [
    "type(price)"
   ]
  },
  {
   "cell_type": "markdown",
   "id": "4d139464-9c14-4a1b-9b3e-9a4b8bebfc10",
   "metadata": {},
   "source": [
    "## Q9. Create a variable named name and assign your full name to it as a string. How would you print the value of this variable?"
   ]
  },
  {
   "cell_type": "code",
   "execution_count": 9,
   "id": "4bd3d142-8bed-4c73-a08a-5e148a20c1c7",
   "metadata": {},
   "outputs": [],
   "source": [
    "name='Yogalakshmi Sethuraman'"
   ]
  },
  {
   "cell_type": "code",
   "execution_count": 12,
   "id": "79f9c13b-414c-4e65-ad87-8e62ae5f62ff",
   "metadata": {},
   "outputs": [
    {
     "name": "stdout",
     "output_type": "stream",
     "text": [
      "My name is Yogalakshmi Sethuraman\n"
     ]
    }
   ],
   "source": [
    "print('My name is',name)"
   ]
  },
  {
   "cell_type": "markdown",
   "id": "59ecadd9-3c44-41f6-94d4-259f4ac6c5ce",
   "metadata": {},
   "source": [
    "## Q10. Given the string \"Hello, World!\", extract the substring \"World\"."
   ]
  },
  {
   "cell_type": "code",
   "execution_count": 14,
   "id": "6356ae07-9d29-4df2-8be3-ae7ea2f3d186",
   "metadata": {},
   "outputs": [],
   "source": [
    "str=\"Hello, World!\""
   ]
  },
  {
   "cell_type": "code",
   "execution_count": 16,
   "id": "b3a1cf33-3b58-428a-af1c-b431c31fae9c",
   "metadata": {},
   "outputs": [
    {
     "data": {
      "text/plain": [
       "'World'"
      ]
     },
     "execution_count": 16,
     "metadata": {},
     "output_type": "execute_result"
    }
   ],
   "source": [
    "str[7:12]"
   ]
  },
  {
   "cell_type": "markdown",
   "id": "d570f19f-e19d-4702-a143-d5459e60edc0",
   "metadata": {},
   "source": [
    "## Q11. Create a variable named \"is_student\" and assign it a boolean value indicating whether you are currently a student or not."
   ]
  },
  {
   "cell_type": "code",
   "execution_count": 17,
   "id": "adcbe14f-03fb-4c3b-9e6f-ea24527f2c09",
   "metadata": {},
   "outputs": [],
   "source": [
    "is_student=True"
   ]
  },
  {
   "cell_type": "code",
   "execution_count": 18,
   "id": "066282a7-eec0-4a99-906e-112bbfefca18",
   "metadata": {},
   "outputs": [
    {
     "data": {
      "text/plain": [
       "True"
      ]
     },
     "execution_count": 18,
     "metadata": {},
     "output_type": "execute_result"
    }
   ],
   "source": [
    "is_student"
   ]
  }
 ],
 "metadata": {
  "kernelspec": {
   "display_name": "Python 3 (ipykernel)",
   "language": "python",
   "name": "python3"
  },
  "language_info": {
   "codemirror_mode": {
    "name": "ipython",
    "version": 3
   },
   "file_extension": ".py",
   "mimetype": "text/x-python",
   "name": "python",
   "nbconvert_exporter": "python",
   "pygments_lexer": "ipython3",
   "version": "3.10.8"
  }
 },
 "nbformat": 4,
 "nbformat_minor": 5
}

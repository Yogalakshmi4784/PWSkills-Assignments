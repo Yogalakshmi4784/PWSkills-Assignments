{
 "cells": [
  {
   "cell_type": "markdown",
   "id": "248584b9-ad6b-440f-aba0-6268ced79176",
   "metadata": {},
   "source": [
    "##### Q1. What is Web Scraping? Why is it Used? Give three areas where Web Scraping is used to get data."
   ]
  },
  {
   "cell_type": "markdown",
   "id": "ff944726-6b84-4352-bada-996a99e936ba",
   "metadata": {},
   "source": [
    "##### Web scraping is the automated process of extracting data from websites. It is used for data collection, content aggregation, sentiment analysis from reviews and price monitoring, among other purposes.Web scraping is employed in areas such as e-commerce, research, and weather forecasting."
   ]
  },
  {
   "cell_type": "markdown",
   "id": "3cac1251-6337-47ff-9e88-6bd16f9b06e4",
   "metadata": {},
   "source": [
    "##### Q2. What are the different methods used for Web Scraping?"
   ]
  },
  {
   "cell_type": "markdown",
   "id": "5916aa30-632a-4089-a537-1845bfd582df",
   "metadata": {},
   "source": [
    "##### Web scraping methods include manual copying, HTML parsing with libraries like BeautifulSoup, urlopen, API access, headless browsers like Puppeteer, scraping frameworks like Scrapy, and dedicated data extraction tools. These methods enable data retrieval from websites with varying complexity and structure."
   ]
  },
  {
   "cell_type": "markdown",
   "id": "d59173f3-aa2c-4aca-b536-2f1c54f0fd28",
   "metadata": {},
   "source": [
    "##### Q3. What is Beautiful Soup? Why is it used?"
   ]
  },
  {
   "cell_type": "markdown",
   "id": "b048a591-8279-4205-96f5-83530f6e9f42",
   "metadata": {},
   "source": [
    "##### Beautiful Soup is a Python library used for parsing HTML and XML documents. It simplifies the extraction of data from web pages by providing a convenient interface to navigate and search the document's structure. Developers use it for web scraping to extract specific information from HTML content efficiently."
   ]
  },
  {
   "cell_type": "markdown",
   "id": "acab7f42-071a-407d-92e9-b28ad598c06e",
   "metadata": {},
   "source": [
    "##### Q4. Why is flask used in this Web Scraping project?"
   ]
  },
  {
   "cell_type": "markdown",
   "id": "e05dcacc-8718-4a20-a729-ae8f276496ca",
   "metadata": {},
   "source": [
    "##### Flask is used in a web scraping project to create a web application interface for users to interact with and initiate web scraping tasks. It provides a simple and lightweight framework for building web-based frontends, allowing users to input URLs or parameters and view scraped data conveniently."
   ]
  },
  {
   "cell_type": "markdown",
   "id": "7518b00d-89b4-42f2-ab95-6752eaf88dde",
   "metadata": {},
   "source": [
    "##### Q5. Write the names of AWS services used in this project. Also, explain the use of each service."
   ]
  },
  {
   "cell_type": "markdown",
   "id": "d81651d6-5df9-4355-9050-cf1ab5176433",
   "metadata": {},
   "source": [
    "AWS Elastic Beanstalk and AWS CodePipeline are the services used in our project:\n",
    "\n",
    "AWS Elastic Beanstalk:\n",
    "\n",
    "- AWS Elastic Beanstalk is a Platform as a Service (PaaS) offering that simplifies the deployment and management of applications. It allows developers to quickly deploy and manage web applications, APIs, and services by abstracting the underlying infrastructure.With Elastic Beanstalk, you can upload your application code, and the service automatically handles provisioning, load balancing, scaling, and monitoring of the application environment.\n",
    "\n",
    "- It supports various programming languages, including Java, Python, Ruby, Node.js, PHP, .NET, and more.\n",
    "\n",
    "AWS CodePipeline:\n",
    "\n",
    "- AWS CodePipeline is a continuous integration and continuous delivery (CI/CD) service that helps automate the build, test, and deployment phases of your application's lifecycle.It allows you to define a pipeline that automates the steps to build and deploy your application code. You can integrate it with other AWS services like AWS CodeBuild for building code, AWS CodeDeploy for deployment, and AWS CodeCommit or GitHub for source code repositories.\n",
    "- CodePipeline enables you to automate and streamline your release process, ensuring that code changes are tested and deployed reliably.Both AWS Elastic Beanstalk and AWS CodePipeline are valuable tools for developers and organizations looking to manage and automate the deployment and release processes of their applications on AWS. Elastic Beanstalk simplifies application deployment and scaling, while CodePipeline automates the CI/CD pipeline for efficient software delivery."
   ]
  }
 ],
 "metadata": {
  "kernelspec": {
   "display_name": "Python 3 (ipykernel)",
   "language": "python",
   "name": "python3"
  },
  "language_info": {
   "codemirror_mode": {
    "name": "ipython",
    "version": 3
   },
   "file_extension": ".py",
   "mimetype": "text/x-python",
   "name": "python",
   "nbconvert_exporter": "python",
   "pygments_lexer": "ipython3",
   "version": "3.10.8"
  }
 },
 "nbformat": 4,
 "nbformat_minor": 5
}

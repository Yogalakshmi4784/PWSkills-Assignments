{
 "cells": [
  {
   "cell_type": "markdown",
   "id": "f4a5a9cf-400d-466c-b7e0-7e610977f5bb",
   "metadata": {},
   "source": [
    "##### Q1, Create a vehicle class with an init method having instance variables as name_of_vehicle, max_speed and average_of_vehicle."
   ]
  },
  {
   "cell_type": "code",
   "execution_count": 1,
   "id": "5ec0c29a-a650-4a5a-8632-948eff5489f0",
   "metadata": {},
   "outputs": [],
   "source": [
    "class vehicle:\n",
    "    def __init__(self,name,max_speed,avg_vehicle):\n",
    "        self.name=name\n",
    "        self.max_speed=max_speed\n",
    "        self.avg_vehicle=avg_vehicle"
   ]
  },
  {
   "cell_type": "markdown",
   "id": "86f35958-ca50-4589-9cfe-d0dbfb6380ce",
   "metadata": {},
   "source": [
    "##### Q2. Create a child class car from the vehicle class created in Que 1, which will inherit the vehicle class.Create a method named seating_capacity which takes capacity as an argument and returns the name of the vehicle and its seating capacity."
   ]
  },
  {
   "cell_type": "code",
   "execution_count": 9,
   "id": "8778d5b5-30e0-4e78-8564-f715c3a9dff8",
   "metadata": {},
   "outputs": [],
   "source": [
    "class car(vehicle):\n",
    "    def __init__(self,name,max_speed,avg_vehicle,capacity):\n",
    "        super().__init__(name, max_speed, avg_vehicle)\n",
    "        self.capacity=capacity        \n",
    "        \n",
    "    def seating_capacity(self):\n",
    "        return self.name, self.capacity"
   ]
  },
  {
   "cell_type": "code",
   "execution_count": 10,
   "id": "88242ae9-c5f9-4e47-ab13-2d61d92a4785",
   "metadata": {},
   "outputs": [],
   "source": [
    "car_obj=car('Hyundai',120,24,4)"
   ]
  },
  {
   "cell_type": "code",
   "execution_count": 12,
   "id": "e5d635c0-f148-4a0b-94ac-51aa246f9ee3",
   "metadata": {},
   "outputs": [
    {
     "data": {
      "text/plain": [
       "('Hyundai', 4)"
      ]
     },
     "execution_count": 12,
     "metadata": {},
     "output_type": "execute_result"
    }
   ],
   "source": [
    "car_obj.seating_capacity()"
   ]
  },
  {
   "cell_type": "markdown",
   "id": "e3f9c396-121b-445c-8bbb-86a11c0f8c4c",
   "metadata": {},
   "source": [
    "##### Q3. What is multiple inheritance? Write a python code to demonstrate multiple inheritance."
   ]
  },
  {
   "cell_type": "code",
   "execution_count": 29,
   "id": "bf02e76a-0bcc-4be9-b3c0-d6a0159d5b04",
   "metadata": {},
   "outputs": [],
   "source": [
    "class Lion:\n",
    "    def __init__(self,name):\n",
    "        self.name=name\n",
    "\n",
    "class Lioness:\n",
    "    def __init__(self,namess):\n",
    "        self.namess=namess\n",
    "    \n",
    "class cub(Lion, Lioness):\n",
    "    def __init__(self, cubname):\n",
    "        Lion.__init__(self, 'Lion')\n",
    "        Lioness.__init__(self, 'Lioness')\n",
    "        self.cubname = cubname\n",
    "        \n",
    "    def namingcub(self):\n",
    "        return self.name,self.namess,self.cubname"
   ]
  },
  {
   "cell_type": "code",
   "execution_count": 30,
   "id": "f0f3e8f2-1b05-4af4-940e-4a1a1861a179",
   "metadata": {},
   "outputs": [],
   "source": [
    "lion_obj=Lion('Lion')\n",
    "lioness_obj=Lioness('Lioness')\n",
    "cub_obj=cub('Simba')"
   ]
  },
  {
   "cell_type": "code",
   "execution_count": 31,
   "id": "4ccdd6a6-a4f1-46f1-8f51-2d4e2cc396d2",
   "metadata": {},
   "outputs": [
    {
     "data": {
      "text/plain": [
       "('Lion', 'Lioness', 'Simba')"
      ]
     },
     "execution_count": 31,
     "metadata": {},
     "output_type": "execute_result"
    }
   ],
   "source": [
    "\n",
    "cub_obj.namingcub()"
   ]
  },
  {
   "cell_type": "markdown",
   "id": "d0888e7f-06d4-4de5-adab-e19929dfeeff",
   "metadata": {},
   "source": [
    "##### Q4. What are getter and setter in python? Create a class and create a getter and a setter method in this class."
   ]
  },
  {
   "cell_type": "markdown",
   "id": "bad07ff9-061d-4ca7-a9af-4d0afb6f7ab2",
   "metadata": {},
   "source": [
    "#####  A getter method, also known as an accessor method, is a method that is used to retrieve the value of an attribute. It is typically \n",
    "\n",
    "##### named with the prefix \"get\" followed by the attribute name. \n",
    "\n",
    "##### A setter method, also known as a mutator method, is a method that is used to set ##### the value of an attribute. It is typically \n",
    "##### named with the prefix \"set\" followed by the attribute name."
   ]
  },
  {
   "cell_type": "code",
   "execution_count": 44,
   "id": "030a263b-0649-4368-aa41-2063b9323d92",
   "metadata": {},
   "outputs": [],
   "source": [
    "class student:\n",
    "    def __init__(self,name):\n",
    "        self._name=name\n",
    "        \n",
    "    def get_name(self):\n",
    "        return self._name\n",
    "    \n",
    "    def set_name(self,name):\n",
    "        self._name=name"
   ]
  },
  {
   "cell_type": "code",
   "execution_count": 47,
   "id": "821a6dd1-0e22-4f7d-a290-d0535830b8de",
   "metadata": {},
   "outputs": [
    {
     "name": "stdout",
     "output_type": "stream",
     "text": [
      "SRK\n"
     ]
    }
   ],
   "source": [
    "student = student(\"Alice\")\n",
    "student.set_name(\"SRK\")\n",
    "print(student.get_name())\n",
    "\n",
    "\n",
    "\n"
   ]
  },
  {
   "cell_type": "markdown",
   "id": "6ec93f6c-cd3e-4853-a7f4-35f35bb0c7ca",
   "metadata": {},
   "source": [
    "##### Q5.What is method overriding in python? Write a python code to demonstrate method overriding."
   ]
  },
  {
   "cell_type": "markdown",
   "id": "e06fdcc2-261c-4e8f-ba51-9065ad8a0790",
   "metadata": {},
   "source": [
    "##### Method overriding means overriding the methods of super class by the sub class provided both the methods have the same name and the same number of parameters."
   ]
  },
  {
   "cell_type": "code",
   "execution_count": 49,
   "id": "49226c17-56ad-417c-9f9f-d39ba7866b9d",
   "metadata": {},
   "outputs": [
    {
     "name": "stdout",
     "output_type": "stream",
     "text": [
      "speak!\n",
      "woof!\n"
     ]
    }
   ],
   "source": [
    "class animal:\n",
    "    def speak(self):\n",
    "        return 'speak!'\n",
    "    \n",
    "class dog(animal):\n",
    "    def speak(self):\n",
    "        return 'woof!'\n",
    "\n",
    "animal=animal()\n",
    "dog=dog()\n",
    "print(animal.speak())\n",
    "print(dog.speak())"
   ]
  }
 ],
 "metadata": {
  "kernelspec": {
   "display_name": "Python 3 (ipykernel)",
   "language": "python",
   "name": "python3"
  },
  "language_info": {
   "codemirror_mode": {
    "name": "ipython",
    "version": 3
   },
   "file_extension": ".py",
   "mimetype": "text/x-python",
   "name": "python",
   "nbconvert_exporter": "python",
   "pygments_lexer": "ipython3",
   "version": "3.10.8"
  }
 },
 "nbformat": 4,
 "nbformat_minor": 5
}

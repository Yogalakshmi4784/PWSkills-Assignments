{
 "cells": [
  {
   "cell_type": "markdown",
   "id": "e2a0f396",
   "metadata": {},
   "source": [
    "### Q1.Explain why we have to use the Exception class while creating a Custom Exception."
   ]
  },
  {
   "cell_type": "markdown",
   "id": "ab3e8a2c",
   "metadata": {},
   "source": [
    "Using the Exception class as a base for custom exceptions provides essential error-handling features. It ensures your custom exception inherits standard exception behavior, making it compatible with built-in exception handling mechanisms like try and except, maintaining consistency in error handling"
   ]
  },
  {
   "cell_type": "markdown",
   "id": "0aac828b",
   "metadata": {},
   "source": [
    "### Q2. Write a python program to print Python Exception Hierarchy."
   ]
  },
  {
   "cell_type": "code",
   "execution_count": 1,
   "id": "5fcd116e",
   "metadata": {},
   "outputs": [
    {
     "name": "stdout",
     "output_type": "stream",
     "text": [
      "This is my file not found error\n"
     ]
    }
   ],
   "source": [
    "try:\n",
    "    with open('test10.txt','r') as f:\n",
    "        f.read()\n",
    "except FileNotFoundError as e:\n",
    "    print(\"This is my file not found error\")\n",
    "except Exception as e:\n",
    "    print(e)"
   ]
  },
  {
   "cell_type": "code",
   "execution_count": 3,
   "id": "ed555618",
   "metadata": {},
   "outputs": [
    {
     "name": "stdout",
     "output_type": "stream",
     "text": [
      "[Errno 2] No such file or directory: 'test10.txt'\n"
     ]
    }
   ],
   "source": [
    "try:\n",
    "    with open('test10.txt','r') as f:\n",
    "        f.read()\n",
    "except Exception as e:\n",
    "    print(e)\n",
    "except FileNotFoundError as e:\n",
    "    print(\"This is my file not found error\")"
   ]
  },
  {
   "cell_type": "code",
   "execution_count": null,
   "id": "8dfed734",
   "metadata": {},
   "outputs": [],
   "source": [
    "try:\n",
    "    with open('test10.txt','r') as f:\n",
    "        f.read()\n",
    "except Exception as e:\n",
    "    print(e)\n",
    "except FileNotFoundError as e:\n",
    "    print(\"This is my file not found error\")"
   ]
  },
  {
   "cell_type": "markdown",
   "id": "5f4b170b",
   "metadata": {},
   "source": [
    "### Q3. What errors are defined in the ArithmeticError class? Explain any two with an example."
   ]
  },
  {
   "cell_type": "markdown",
   "id": "3b50cca1",
   "metadata": {},
   "source": [
    "The ArithmeticError class is a base class for various arithmetic-related exceptions in Python. Two common exceptions derived from ArithmeticError are:"
   ]
  },
  {
   "cell_type": "code",
   "execution_count": 4,
   "id": "72b16609",
   "metadata": {},
   "outputs": [
    {
     "name": "stdout",
     "output_type": "stream",
     "text": [
      "unsupported operand type(s) for +: 'int' and 'str'\n"
     ]
    }
   ],
   "source": [
    "# Type Error\n",
    "\n",
    "try:\n",
    "    123+\"yoga\"\n",
    "except TypeError as e:\n",
    "    print(e)"
   ]
  },
  {
   "cell_type": "code",
   "execution_count": 5,
   "id": "423eb0b9",
   "metadata": {},
   "outputs": [
    {
     "name": "stdout",
     "output_type": "stream",
     "text": [
      "invalid literal for int() with base 10: 'sudh'\n"
     ]
    }
   ],
   "source": [
    "# Value Error or Type Error\n",
    "\n",
    "try:\n",
    "    int('sudh')\n",
    "except (ValueError,TypeError) as e:\n",
    "    print(e)"
   ]
  },
  {
   "cell_type": "markdown",
   "id": "ee6eaede",
   "metadata": {},
   "source": [
    "### Q4. Why LookupError class is used? Explain with an example KeyError and IndexError."
   ]
  },
  {
   "cell_type": "markdown",
   "id": "a138b903",
   "metadata": {},
   "source": [
    "The LookupError class in Python is a base class for exceptions that occur when a key or index is not found in a sequence or mapping (e.g., lists, dictionaries). It serves as a convenient way to handle lookup-related errors in a generalized manner. Some exceptions derived from LookupError include:\n",
    "\n",
    "- IndexError: Raised when attempting to access an index that is out of range for a sequence (e.g., a list or tuple).\n",
    "\n",
    "- KeyError: Raised when trying to access a dictionary key that does not exist."
   ]
  },
  {
   "cell_type": "markdown",
   "id": "a37e73bf",
   "metadata": {},
   "source": [
    "##### Key Error"
   ]
  },
  {
   "cell_type": "code",
   "execution_count": 6,
   "id": "6b28b3b9",
   "metadata": {},
   "outputs": [
    {
     "name": "stdout",
     "output_type": "stream",
     "text": [
      "'key10'\n"
     ]
    }
   ],
   "source": [
    "try:\n",
    "    d={1:[1,2,3,4,5],\"key\":\"sudh\"}\n",
    "    d[\"key10\"]\n",
    "except KeyError as e:\n",
    "    print(e)\n"
   ]
  },
  {
   "cell_type": "markdown",
   "id": "b34b49c0",
   "metadata": {},
   "source": [
    "##### Index Error"
   ]
  },
  {
   "cell_type": "code",
   "execution_count": 7,
   "id": "153f507d",
   "metadata": {},
   "outputs": [
    {
     "name": "stdout",
     "output_type": "stream",
     "text": [
      "list index out of range\n"
     ]
    }
   ],
   "source": [
    "try:\n",
    "    l=[1,2,3,4,3]\n",
    "    l[10]\n",
    "except IndexError as e:\n",
    "    print(e)"
   ]
  },
  {
   "cell_type": "markdown",
   "id": "7cf22228",
   "metadata": {},
   "source": [
    "### Q5. Explain ImportError. What is ModuleNotFoundError?"
   ]
  },
  {
   "cell_type": "markdown",
   "id": "2cf8379a",
   "metadata": {},
   "source": [
    "ImportError is a Python exception raised when there is an issue with importing a module, such as a module not found or other import-related problems. ModuleNotFoundError is a specific type of ImportError raised when the specified module cannot be found in the Python path."
   ]
  },
  {
   "cell_type": "markdown",
   "id": "bc7b0939",
   "metadata": {},
   "source": [
    "### Q6. List down some best practices for exception handling in python."
   ]
  },
  {
   "cell_type": "markdown",
   "id": "8e885fbf",
   "metadata": {},
   "source": [
    "- ###### Use Specific Exceptions: Catch specific exceptions whenever possible instead of catching broad ones like Exception. This helps you handle errors more precisely."
   ]
  },
  {
   "cell_type": "code",
   "execution_count": 8,
   "id": "5b161adf",
   "metadata": {},
   "outputs": [
    {
     "name": "stdout",
     "output_type": "stream",
     "text": [
      "[Errno 2] No such file or directory: 'test10.txt'\n"
     ]
    }
   ],
   "source": [
    "try:\n",
    "    with open('test10.txt','r') as f:\n",
    "        f.read()\n",
    "except Exception as e:\n",
    "    print(e)"
   ]
  },
  {
   "cell_type": "markdown",
   "id": "4ebc6697",
   "metadata": {},
   "source": [
    "- ###### Clean Up Resources: Use finally blocks to ensure resources (e.g., files, database connections) are properly closed or cleaned up, even if an exception occurs."
   ]
  },
  {
   "cell_type": "code",
   "execution_count": null,
   "id": "b42663b6",
   "metadata": {},
   "outputs": [],
   "source": [
    "try:\n",
    "    f=open('text.txt','w')\n",
    "    f.write(\"This is my code\")\n",
    "except Exception as e:\n",
    "    print('There is some issue with my code',e)\n",
    "else:\n",
    "    print('Written')\n",
    "finally:\n",
    "    f.close()"
   ]
  },
  {
   "cell_type": "markdown",
   "id": "c6a23fc5",
   "metadata": {},
   "source": [
    "\n",
    "\n",
    "- ###### Don't Silence Errors: Avoid using empty except blocks without proper error handling logic. Silencing errors can make debugging difficult.\n"
   ]
  },
  {
   "cell_type": "code",
   "execution_count": null,
   "id": "79dba680",
   "metadata": {},
   "outputs": [],
   "source": [
    "\n",
    "try:\n",
    "    int('sudh')\n",
    "except:\n",
    "    print(\"This will catch an error\")"
   ]
  }
 ],
 "metadata": {
  "kernelspec": {
   "display_name": "Python 3 (ipykernel)",
   "language": "python",
   "name": "python3"
  },
  "language_info": {
   "codemirror_mode": {
    "name": "ipython",
    "version": 3
   },
   "file_extension": ".py",
   "mimetype": "text/x-python",
   "name": "python",
   "nbconvert_exporter": "python",
   "pygments_lexer": "ipython3",
   "version": "3.9.13"
  }
 },
 "nbformat": 4,
 "nbformat_minor": 5
}

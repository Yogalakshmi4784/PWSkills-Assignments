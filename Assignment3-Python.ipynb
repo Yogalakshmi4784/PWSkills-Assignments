{
 "cells": [
  {
   "cell_type": "markdown",
   "id": "808ba2ef-bb58-4949-9db4-b4612d71192f",
   "metadata": {},
   "source": [
    "## Q1. Which keyword is used to create a function? Create a function to return a list of odd numbers in the range of 1 to 25."
   ]
  },
  {
   "cell_type": "code",
   "execution_count": 1,
   "id": "0937cec9-d156-48a1-8052-7273f3e2b7a2",
   "metadata": {},
   "outputs": [],
   "source": [
    "def odd():\n",
    "    l1=[]\n",
    "    for i in range(1,26):\n",
    "        if i%2==1:\n",
    "            l1.append(i)\n",
    "    return l1"
   ]
  },
  {
   "cell_type": "code",
   "execution_count": 2,
   "id": "effe70bb-41ad-4286-8ce5-98f39bdc0740",
   "metadata": {},
   "outputs": [
    {
     "data": {
      "text/plain": [
       "[1, 3, 5, 7, 9, 11, 13, 15, 17, 19, 21, 23, 25]"
      ]
     },
     "execution_count": 2,
     "metadata": {},
     "output_type": "execute_result"
    }
   ],
   "source": [
    "odd()"
   ]
  },
  {
   "cell_type": "markdown",
   "id": "c1a5e318-75d0-4a23-a061-e281139e1c29",
   "metadata": {},
   "source": [
    "## Q2. Why *args and **kwargs is used in some functions? Create a function each for *args and **kwargs to demonstrate their use."
   ]
  },
  {
   "cell_type": "markdown",
   "id": "c174b676-9859-4c6a-95d5-accc9ce5e844",
   "metadata": {},
   "source": [
    "*args is used for accepting variable number of positional arguments.\n",
    "**kwargs is used for accepting variable number of keyword arguments. Keyword arguments are accepted as dictionaries in a key value pair"
   ]
  },
  {
   "cell_type": "code",
   "execution_count": 36,
   "id": "3309f9a2-e163-4cce-b66a-99adf9cec52f",
   "metadata": {},
   "outputs": [
    {
     "name": "stdout",
     "output_type": "stream",
     "text": [
      "[2, 4, 6, 8, 58, 22, 66, 4, 886, 552, 588]\n"
     ]
    }
   ],
   "source": [
    "def even(*args):\n",
    "    n=[]\n",
    "    for i in args:\n",
    "        if i%2==0: \n",
    "            n.append(i)\n",
    "    return n   \n",
    "\n",
    "\n",
    "l1=[1,2,3,4,5,6,7,8,9,11,47,58,69,11,22,55,66,33,4,5,886,552,6333,588,611,633]\n",
    "\n",
    "result=even(*l1)\n",
    "print(result)"
   ]
  },
  {
   "cell_type": "code",
   "execution_count": 39,
   "id": "54f938e1-de36-4705-9bb7-c1249887796f",
   "metadata": {},
   "outputs": [
    {
     "data": {
      "text/plain": [
       "('d', ('Sudh', 'PWSKILLS'))"
      ]
     },
     "execution_count": 39,
     "metadata": {},
     "output_type": "execute_result"
    }
   ],
   "source": [
    "def test5(**kwargs):\n",
    "    for i in kwargs.keys():\n",
    "        if type(kwargs[i])==tuple:\n",
    "            return i,kwargs[i]\n",
    "\n",
    "\n",
    "test5(a=34,b=23,c=[1,2,3,4],d=(\"Sudh\",\"PWSKILLS\"))"
   ]
  },
  {
   "cell_type": "markdown",
   "id": "0faf6847-5c4e-41da-b58e-2cc3d2684ccf",
   "metadata": {},
   "source": [
    "## Q3. What is an iterator in python? Name the method used to initialise the iterator object and the method used for iteration. Use these methods to print the first five elements of the given list [2, 4, 6, 8, 10, 12, 14, 16,18, 20].\n",
    "\n",
    "\n",
    "An iterator is an object that represents a sequence of elements and allows you to traverse through those elements one at a time. To work with iterators,two methods are used: iter() to initialize the iterator object and next() to iterate through the elements"
   ]
  },
  {
   "cell_type": "code",
   "execution_count": 10,
   "id": "67583004-7175-494a-bc84-802370d75641",
   "metadata": {},
   "outputs": [
    {
     "name": "stdout",
     "output_type": "stream",
     "text": [
      "2\n",
      "4\n",
      "6\n",
      "8\n",
      "10\n"
     ]
    }
   ],
   "source": [
    "my_list = [2, 4, 6, 8, 10, 12, 14, 16, 18, 20]\n",
    "my_iterator = iter(my_list)\n",
    "\n",
    "\n",
    "for i in range(5):\n",
    "    \n",
    "        element = next(my_iterator)\n",
    "        print(element)"
   ]
  },
  {
   "cell_type": "markdown",
   "id": "3d8583a8-581b-4381-9c51-ff956b6d731e",
   "metadata": {},
   "source": [
    "## Q4. What is a generator function in python? Why yield keyword is used? Give an example of a generator function.\n",
    "\n",
    "A generator function is a special type of function that returns a sequence of values one at a time, rather than all at once. This is done using the yield keyword.\n",
    "\n",
    "The yield keyword is used to pause the execution of the generator function and return a value. When the generator function is called again, it will resume execution from the point where it was paused."
   ]
  },
  {
   "cell_type": "code",
   "execution_count": 3,
   "id": "d5f208ca-65dc-4669-aaa1-aa438388a28d",
   "metadata": {},
   "outputs": [
    {
     "name": "stdout",
     "output_type": "stream",
     "text": [
      "0\n",
      "1\n",
      "1\n",
      "2\n",
      "3\n",
      "5\n",
      "8\n",
      "13\n",
      "21\n",
      "34\n"
     ]
    }
   ],
   "source": [
    "def fibonacci(n):\n",
    "    a,b=0,1\n",
    "    for i in range(n):\n",
    "        yield a\n",
    "        a,b=b,a+b\n",
    "    \n",
    "    \n",
    "    \n",
    "for i in fibonacci(10):\n",
    "    print(i)"
   ]
  },
  {
   "cell_type": "markdown",
   "id": "90bd0aa4-5de4-464e-980d-fd1890a4c0f9",
   "metadata": {},
   "source": [
    "## Q5. Create a generator function for prime numbers less than 1000. Use the next() method to print the first 20 prime numbers."
   ]
  },
  {
   "cell_type": "code",
   "execution_count": 22,
   "id": "b209b9d2-df34-4d20-88ad-1cd999f7c774",
   "metadata": {},
   "outputs": [
    {
     "name": "stdout",
     "output_type": "stream",
     "text": [
      "2\n",
      "3\n",
      "5\n",
      "7\n",
      "11\n",
      "13\n",
      "17\n",
      "19\n",
      "23\n",
      "29\n",
      "31\n",
      "37\n",
      "41\n",
      "43\n",
      "47\n",
      "53\n",
      "59\n",
      "61\n",
      "67\n",
      "71\n"
     ]
    }
   ],
   "source": [
    "def prime():\n",
    "    yield 2\n",
    "    for n in range(3,1000,2):\n",
    "        for i in range(3,int(n**0.5)+1,2):\n",
    "            if n%i==0:\n",
    "                break\n",
    "        else:\n",
    "            yield n\n",
    "\n",
    "primes=prime()\n",
    "for i in range(20):\n",
    "    print(next(primes))"
   ]
  }
 ],
 "metadata": {
  "kernelspec": {
   "display_name": "Python 3 (ipykernel)",
   "language": "python",
   "name": "python3"
  },
  "language_info": {
   "codemirror_mode": {
    "name": "ipython",
    "version": 3
   },
   "file_extension": ".py",
   "mimetype": "text/x-python",
   "name": "python",
   "nbconvert_exporter": "python",
   "pygments_lexer": "ipython3",
   "version": "3.10.8"
  }
 },
 "nbformat": 4,
 "nbformat_minor": 5
}

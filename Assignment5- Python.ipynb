{
 "cells": [
  {
   "cell_type": "markdown",
   "id": "9ee027ba-a2a7-4a5a-9239-977571c37594",
   "metadata": {},
   "source": [
    "### Q1. Explain Class and Object with respect to Object-Oriented Programming. Give a suitable example."
   ]
  },
  {
   "cell_type": "markdown",
   "id": "5de881df-354d-4a5c-976c-a8f8272d76d3",
   "metadata": {},
   "source": [
    "##### Class: A class is a template for creating objects. It defines the attributes (data members) and methods (functions) that the objects created from that class will have.\n",
    "\n",
    "##### Object: An object is an instance of a class, created based on the class's blueprint."
   ]
  },
  {
   "cell_type": "code",
   "execution_count": 52,
   "id": "01eec073-cc2f-4d6f-a138-743f8a6fad76",
   "metadata": {},
   "outputs": [],
   "source": [
    "# class creation\n",
    "\n",
    "class add:\n",
    "    def __init__(self,a,b):\n",
    "        self.a=a\n",
    "        self.b=b\n",
    "        \n",
    "    def addition(self):\n",
    "        return self.a+self.b"
   ]
  },
  {
   "cell_type": "code",
   "execution_count": 53,
   "id": "025af77c-9d3f-4241-bf5f-5ea83bccc5f5",
   "metadata": {},
   "outputs": [
    {
     "data": {
      "text/plain": [
       "9"
      ]
     },
     "execution_count": 53,
     "metadata": {},
     "output_type": "execute_result"
    }
   ],
   "source": [
    "# Object creation\n",
    "\n",
    "a=add(4,5)\n",
    "a.addition()"
   ]
  },
  {
   "cell_type": "markdown",
   "id": "cb6bc748-c003-49f7-b315-e9521bd22fb3",
   "metadata": {},
   "source": [
    "### Q2. Name the four pillars of OOPs."
   ]
  },
  {
   "cell_type": "markdown",
   "id": "a15af6f6-cb15-4e79-a857-6885ad8a47cd",
   "metadata": {},
   "source": [
    "### The four pillars of OOPS are Inheritance, Polymorphism, Encapsulation and Abstraction"
   ]
  },
  {
   "cell_type": "markdown",
   "id": "18febc01-1895-40a8-a414-d4fce8fbb25e",
   "metadata": {},
   "source": [
    "### Q3. Explain why the __init__() function is used. Give a suitable example."
   ]
  },
  {
   "cell_type": "markdown",
   "id": "2ea02614-266c-483f-9219-b9b7d74565f1",
   "metadata": {},
   "source": [
    "##### \"__init__\" is used as a constructor to initialize the instance of a class"
   ]
  },
  {
   "cell_type": "code",
   "execution_count": 30,
   "id": "a159cd88-5570-4dea-a058-5fad9b91747a",
   "metadata": {},
   "outputs": [],
   "source": [
    "class add:\n",
    "    def __init__(self,a,b):\n",
    "        self.a=a\n",
    "        self.b=b\n",
    "        \n",
    "    def addition(self):\n",
    "        return self.a+self.b"
   ]
  },
  {
   "cell_type": "code",
   "execution_count": 33,
   "id": "1af3c340-e32f-4b2a-bdb7-cd4599405ca9",
   "metadata": {},
   "outputs": [
    {
     "data": {
      "text/plain": [
       "9"
      ]
     },
     "execution_count": 33,
     "metadata": {},
     "output_type": "execute_result"
    }
   ],
   "source": [
    "a=add(4,5)\n",
    "a.addition()"
   ]
  },
  {
   "cell_type": "markdown",
   "id": "46e0fec4-9fb1-48d4-bfeb-3ee5b4fd42c0",
   "metadata": {},
   "source": [
    "### Q4. Why self is used in OOPs?"
   ]
  },
  {
   "cell_type": "markdown",
   "id": "c55fe5bd-2d86-443b-a331-4ed3ba3a3fbc",
   "metadata": {},
   "source": [
    "##### self is used to refer to the instance of a class within the class itself. It is a common convention in many object-oriented programming languages, including Python, to use self as the first parameter in instance methods. self is used to call other methods within the same class. "
   ]
  },
  {
   "cell_type": "markdown",
   "id": "95856a2f-226b-4878-b6a1-8044f4213731",
   "metadata": {},
   "source": [
    "### Q5. What is inheritance? Give an example for each type of inheritance."
   ]
  },
  {
   "cell_type": "markdown",
   "id": "cd0104ea-5ea1-49a2-959c-679382c9f143",
   "metadata": {},
   "source": [
    "##### Inheritance is a fundamental concept in object-oriented programming (OOP) that allows you to create a new class (called a subclass or derived class) by inheriting the attributes and methods of an existing class (called a superclass or base class)\n",
    "\n",
    "##### There are several types of inheritance in OOP:\n",
    "\n",
    "##### Single Inheritance: In single inheritance, a subclass inherits from only one superclass. This is the simplest form of inheritance."
   ]
  },
  {
   "cell_type": "code",
   "execution_count": 37,
   "id": "4a0cd4d5-fe27-43ca-abf4-23d96eb29b48",
   "metadata": {},
   "outputs": [],
   "source": [
    "class animal:\n",
    "    def speak(self):\n",
    "        pass\n",
    "    \n",
    "class dog(animal):\n",
    "    def speak(self):\n",
    "        return 'woof!'"
   ]
  },
  {
   "cell_type": "code",
   "execution_count": 38,
   "id": "40f82853-97ff-478d-b560-3ec96367d2b8",
   "metadata": {},
   "outputs": [
    {
     "name": "stdout",
     "output_type": "stream",
     "text": [
      "woof!\n"
     ]
    }
   ],
   "source": [
    "dog=dog()\n",
    "print(dog.speak())"
   ]
  },
  {
   "cell_type": "markdown",
   "id": "8bed8efe-89e8-4c8a-bebb-7d18b3cb734e",
   "metadata": {},
   "source": [
    "##### Multiple Inheritance: In multiple inheritance, a subclass can inherit from multiple superclasses. This allows a class to inherit and combine the attributes and methods of multiple classes."
   ]
  },
  {
   "cell_type": "code",
   "execution_count": 40,
   "id": "7cd62520-83db-4505-a00b-06f9e42754f6",
   "metadata": {},
   "outputs": [],
   "source": [
    "class bird:\n",
    "    def fly(self):\n",
    "        pass\n",
    "class mammal:\n",
    "    def feed(self):\n",
    "        pass\n",
    "class baby(bird,mammal):\n",
    "    pass"
   ]
  },
  {
   "cell_type": "code",
   "execution_count": 41,
   "id": "cc7987be-e12a-4bac-b232-d3d6eb1bb5dc",
   "metadata": {},
   "outputs": [],
   "source": [
    "baby=baby()"
   ]
  },
  {
   "cell_type": "code",
   "execution_count": 42,
   "id": "9b8f8e76-7566-49fe-ab41-1e64f66daafd",
   "metadata": {},
   "outputs": [],
   "source": [
    "baby.fly()"
   ]
  },
  {
   "cell_type": "code",
   "execution_count": 43,
   "id": "e85e52bf-e6fa-4ffc-a931-3e1f2b82a568",
   "metadata": {},
   "outputs": [],
   "source": [
    "baby.feed()"
   ]
  },
  {
   "cell_type": "markdown",
   "id": "7d86808b-685e-420f-8534-d59bb8bbaede",
   "metadata": {},
   "source": [
    "##### Multilevel Inheritance: In multilevel inheritance, a subclass is derived from another subclass. This creates a chain of inheritance, where each class inherits from the one above it."
   ]
  },
  {
   "cell_type": "code",
   "execution_count": 47,
   "id": "6d6fc109-5823-4815-8af7-74be96c492a2",
   "metadata": {},
   "outputs": [],
   "source": [
    "class grandpa:\n",
    "    def method(self):\n",
    "        pass\n",
    "    \n",
    "class mother(grandpa):\n",
    "    def method1(self):\n",
    "        pass\n",
    "    \n",
    "class child(mother):\n",
    "    def method2(self):\n",
    "        pass"
   ]
  },
  {
   "cell_type": "markdown",
   "id": "87ee0509-f50b-4a48-872c-3c41f5c48cb3",
   "metadata": {},
   "source": [
    "##### Hierarchical Inheritance: In hierarchical inheritance, multiple subclasses inherit from a single superclass. Each subclass may have its own additional methods and attributes."
   ]
  },
  {
   "cell_type": "code",
   "execution_count": 46,
   "id": "38178a17-bd57-45d0-83b6-ee18738f4d17",
   "metadata": {},
   "outputs": [],
   "source": [
    "class vehicle:\n",
    "c    def car(self):\n",
    "        pass\n",
    "    \n",
    "class car(vehicle):\n",
    "    def drive(self):\n",
    "        pass\n",
    "    \n",
    "class bus(vehicle):\n",
    "    def  brake(self):\n",
    "        pass"
   ]
  },
  {
   "cell_type": "markdown",
   "id": "7c369582-9eb3-416f-8e00-a85949f27f7f",
   "metadata": {},
   "source": [
    "##### Hybrid Inheritance: Hybrid inheritance is a combination of multiple types of inheritance. It can involve multiple, multilevel, or hierarchical inheritance, and it can be complex."
   ]
  },
  {
   "cell_type": "code",
   "execution_count": 48,
   "id": "d8f88ce3-63d8-4395-bb0c-36fa629e255b",
   "metadata": {},
   "outputs": [],
   "source": [
    "class A:\n",
    "    pass\n",
    "\n",
    "class B(A):\n",
    "    pass\n",
    "\n",
    "class C(A):\n",
    "    pass\n",
    "\n",
    "class D(B,C):\n",
    "    pass"
   ]
  }
 ],
 "metadata": {
  "kernelspec": {
   "display_name": "Python 3 (ipykernel)",
   "language": "python",
   "name": "python3"
  },
  "language_info": {
   "codemirror_mode": {
    "name": "ipython",
    "version": 3
   },
   "file_extension": ".py",
   "mimetype": "text/x-python",
   "name": "python",
   "nbconvert_exporter": "python",
   "pygments_lexer": "ipython3",
   "version": "3.10.8"
  }
 },
 "nbformat": 4,
 "nbformat_minor": 5
}

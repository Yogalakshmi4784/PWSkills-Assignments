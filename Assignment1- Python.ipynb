{
 "cells": [
  {
   "cell_type": "markdown",
   "id": "79a23fce-e83c-424c-b22d-df1902e84fd0",
   "metadata": {},
   "source": [
    "Q1."
   ]
  },
  {
   "cell_type": "markdown",
   "id": "5038974e-aec1-430c-bfa5-f5853a2d23d3",
   "metadata": {},
   "source": [
    "i. String"
   ]
  },
  {
   "cell_type": "code",
   "execution_count": 1,
   "id": "6bcbd6d2-bb83-44c2-bed8-90324ee554d3",
   "metadata": {},
   "outputs": [],
   "source": [
    "a='Yoga'"
   ]
  },
  {
   "cell_type": "markdown",
   "id": "5d972bca-0a0d-4072-a806-3166b53d72d2",
   "metadata": {},
   "source": [
    "ii.List"
   ]
  },
  {
   "cell_type": "code",
   "execution_count": 2,
   "id": "98c8dfd2-7523-44d9-8d83-c028abcebcfd",
   "metadata": {},
   "outputs": [],
   "source": [
    "l=[1,2,3,4,'abc',['a','b','c']]"
   ]
  },
  {
   "cell_type": "markdown",
   "id": "7d1899f6-76b8-4756-9706-e68ade3d210a",
   "metadata": {},
   "source": [
    "iii. Float"
   ]
  },
  {
   "cell_type": "code",
   "execution_count": 3,
   "id": "77272ed4-d955-4af6-9ae1-062e4c443c01",
   "metadata": {},
   "outputs": [],
   "source": [
    "f=12.059"
   ]
  },
  {
   "cell_type": "markdown",
   "id": "77867f62-924f-4db3-a085-fbdfaeb315d9",
   "metadata": {},
   "source": [
    "iv.Tuple"
   ]
  },
  {
   "cell_type": "code",
   "execution_count": 4,
   "id": "3f4b5634-e532-4860-98a4-86b4d4915aeb",
   "metadata": {},
   "outputs": [],
   "source": [
    "t=('Sudh','Krish','Yoga')"
   ]
  },
  {
   "cell_type": "markdown",
   "id": "65e5bb54-2fb9-42af-8f86-64dc1e9c2515",
   "metadata": {},
   "source": [
    "Q2. Datatypes"
   ]
  },
  {
   "cell_type": "markdown",
   "id": "fb5f1f3b-e170-462a-84cf-e942e8ddfc37",
   "metadata": {},
   "source": [
    "i. var1=' '"
   ]
  },
  {
   "cell_type": "code",
   "execution_count": 8,
   "id": "ed22cc47-e6b8-4cd5-a97d-6a943532b284",
   "metadata": {},
   "outputs": [
    {
     "data": {
      "text/plain": [
       "str"
      ]
     },
     "execution_count": 8,
     "metadata": {},
     "output_type": "execute_result"
    }
   ],
   "source": [
    "var1=' '\n",
    "type(var1)"
   ]
  },
  {
   "cell_type": "code",
   "execution_count": 10,
   "id": "fd4dde71-a0e9-45da-bcab-a4b1f16f8240",
   "metadata": {},
   "outputs": [
    {
     "data": {
      "text/plain": [
       "str"
      ]
     },
     "execution_count": 10,
     "metadata": {},
     "output_type": "execute_result"
    }
   ],
   "source": [
    "var2='[DS,ML,Python]'\n",
    "type(var2)"
   ]
  },
  {
   "cell_type": "code",
   "execution_count": 11,
   "id": "f4f36c14-4bd2-4977-9c14-80bbd7c9d160",
   "metadata": {},
   "outputs": [
    {
     "data": {
      "text/plain": [
       "list"
      ]
     },
     "execution_count": 11,
     "metadata": {},
     "output_type": "execute_result"
    }
   ],
   "source": [
    "var3 = ['DS' ,'ML' ,'Python' ]\n",
    "type(var3)"
   ]
  },
  {
   "cell_type": "code",
   "execution_count": 12,
   "id": "5ba8c9ef-a52c-4ae3-8193-39b66be33ef7",
   "metadata": {},
   "outputs": [
    {
     "data": {
      "text/plain": [
       "int"
      ]
     },
     "execution_count": 12,
     "metadata": {},
     "output_type": "execute_result"
    }
   ],
   "source": [
    "var4=1\n",
    "type(var4)"
   ]
  },
  {
   "cell_type": "markdown",
   "id": "59f91281-2b8a-4b67-8b37-66701f196252",
   "metadata": {},
   "source": [
    "Q3. Use of operators"
   ]
  },
  {
   "cell_type": "markdown",
   "id": "520146e6-2899-4355-bbad-8e2f30d8b3ae",
   "metadata": {},
   "source": [
    "Operator ' / ' is used to denote division of 2 numbers. For eg. 5/2 = 2.5"
   ]
  },
  {
   "cell_type": "code",
   "execution_count": 13,
   "id": "68c3a5d2-956f-41dc-8fd8-c13cd3efdd4a",
   "metadata": {},
   "outputs": [
    {
     "data": {
      "text/plain": [
       "2.5"
      ]
     },
     "execution_count": 13,
     "metadata": {},
     "output_type": "execute_result"
    }
   ],
   "source": [
    "5/2"
   ]
  },
  {
   "cell_type": "markdown",
   "id": "406d3597-8b4e-45a4-80e7-7a9a6c817c08",
   "metadata": {},
   "source": [
    "Operator '%' is called as the modulo operator and is used to get the remainder from the division of 2 numbers. For eg: 5%2=1"
   ]
  },
  {
   "cell_type": "code",
   "execution_count": 14,
   "id": "430fc58a-413c-4f8e-8521-3e67a3bc5c39",
   "metadata": {},
   "outputs": [
    {
     "data": {
      "text/plain": [
       "1"
      ]
     },
     "execution_count": 14,
     "metadata": {},
     "output_type": "execute_result"
    }
   ],
   "source": [
    "5%2"
   ]
  },
  {
   "cell_type": "markdown",
   "id": "62c2d35b-a233-40f4-899a-e403a6fd133a",
   "metadata": {},
   "source": [
    "Operator '//' is used to get the quotient from the division of 2 numbers. for eg: 5//2=2"
   ]
  },
  {
   "cell_type": "code",
   "execution_count": 15,
   "id": "8367f223-1c6d-4d6f-955a-781d81eaaa07",
   "metadata": {},
   "outputs": [
    {
     "data": {
      "text/plain": [
       "2"
      ]
     },
     "execution_count": 15,
     "metadata": {},
     "output_type": "execute_result"
    }
   ],
   "source": [
    "5//2"
   ]
  },
  {
   "cell_type": "markdown",
   "id": "d5e1f0d6-4949-41fe-968a-e62ff3d55f5d",
   "metadata": {},
   "source": [
    "Operator ** is used as an exponentiation of a number. for eg. 2**3=8. 2 power 3 is 8 in other words"
   ]
  },
  {
   "cell_type": "code",
   "execution_count": 16,
   "id": "048dddce-9abc-4355-9b1a-776a0a7ecc81",
   "metadata": {},
   "outputs": [
    {
     "data": {
      "text/plain": [
       "8"
      ]
     },
     "execution_count": 16,
     "metadata": {},
     "output_type": "execute_result"
    }
   ],
   "source": [
    "2**3"
   ]
  },
  {
   "cell_type": "markdown",
   "id": "76d07c3d-6b08-41d7-94ff-b1df71e298e2",
   "metadata": {},
   "source": [
    "Q4. For loop"
   ]
  },
  {
   "cell_type": "code",
   "execution_count": 17,
   "id": "af89e4ba-5e81-4633-9c16-1a8cacb4a9f4",
   "metadata": {},
   "outputs": [],
   "source": [
    "l1=[1,2,3,4,5,'abc','cde',(5,6,8),['too','loo','woo','moo'],33.25]"
   ]
  },
  {
   "cell_type": "code",
   "execution_count": 18,
   "id": "29786bb3-bcb3-44a9-b38e-899a80bf1779",
   "metadata": {},
   "outputs": [
    {
     "name": "stdout",
     "output_type": "stream",
     "text": [
      "The datatype of 1: <class 'int'>\n",
      "The datatype of 2: <class 'int'>\n",
      "The datatype of 3: <class 'int'>\n",
      "The datatype of 4: <class 'int'>\n",
      "The datatype of 5: <class 'int'>\n",
      "The datatype of abc: <class 'str'>\n",
      "The datatype of cde: <class 'str'>\n",
      "The datatype of (5, 6, 8): <class 'tuple'>\n",
      "The datatype of ['too', 'loo', 'woo', 'moo']: <class 'list'>\n",
      "The datatype of 33.25: <class 'float'>\n"
     ]
    }
   ],
   "source": [
    "for i in l1:\n",
    "    print(f'The datatype of {i}:',type(i))"
   ]
  },
  {
   "cell_type": "markdown",
   "id": "e43ccfef-3c4a-4248-8092-5d05e1a56dd6",
   "metadata": {},
   "source": [
    "Q5. While loop"
   ]
  },
  {
   "cell_type": "code",
   "execution_count": 20,
   "id": "c5e23733-9923-44e0-b0b1-4fd0f54512e1",
   "metadata": {},
   "outputs": [],
   "source": [
    "a=60\n",
    "b=12\n"
   ]
  },
  {
   "cell_type": "code",
   "execution_count": 21,
   "id": "b257578e-a2f4-4cb4-9140-86dcc8fd8386",
   "metadata": {},
   "outputs": [
    {
     "name": "stdout",
     "output_type": "stream",
     "text": [
      "5\n"
     ]
    }
   ],
   "source": [
    "while a%b==0:\n",
    "    print(a//b)\n",
    "    break"
   ]
  },
  {
   "cell_type": "markdown",
   "id": "fee261b5-fcfc-46ee-b110-34c38e47cf66",
   "metadata": {},
   "source": [
    "Q6. List with For loop and if else- divisible check by 3"
   ]
  },
  {
   "cell_type": "code",
   "execution_count": 24,
   "id": "277dcdf7-34ac-4360-9754-76ccd1f50241",
   "metadata": {},
   "outputs": [
    {
     "name": "stdout",
     "output_type": "stream",
     "text": [
      "The number 1 is not divisible by 3\n",
      "The number 2 is not divisible by 3\n",
      "The number 3 is divisible by 3\n",
      "The number 4 is not divisible by 3\n",
      "The number 5 is not divisible by 3\n",
      "The number 6 is divisible by 3\n",
      "The number 7 is not divisible by 3\n",
      "The number 8 is not divisible by 3\n",
      "The number 9 is divisible by 3\n",
      "The number 10 is not divisible by 3\n",
      "The number 11 is not divisible by 3\n",
      "The number 12 is divisible by 3\n",
      "The number 13 is not divisible by 3\n",
      "The number 14 is not divisible by 3\n",
      "The number 15 is divisible by 3\n",
      "The number 16 is not divisible by 3\n",
      "The number 17 is not divisible by 3\n",
      "The number 18 is divisible by 3\n",
      "The number 19 is not divisible by 3\n",
      "The number 20 is not divisible by 3\n",
      "The number 21 is divisible by 3\n",
      "The number 22 is not divisible by 3\n",
      "The number 23 is not divisible by 3\n",
      "The number 24 is divisible by 3\n",
      "The number 25 is not divisible by 3\n"
     ]
    }
   ],
   "source": [
    "for i in range(1,26):\n",
    "    if i%3==0:\n",
    "        print(f'The number {i} is divisible by 3')\n",
    "    else:\n",
    "        print(f'The number {i} is not divisible by 3')"
   ]
  },
  {
   "cell_type": "markdown",
   "id": "68b41b05-035d-45dc-b7e9-93838e370b81",
   "metadata": {},
   "source": [
    "Q7. \n",
    "- Mutable datatype means, the elements of a particular datatype can be modified such as a list\n",
    "\n",
    "- Immutable datatype means the elements of a particular datatype cannot be modified such as a string"
   ]
  },
  {
   "cell_type": "code",
   "execution_count": 26,
   "id": "a36c22ea-dcda-4581-bb0d-62e8047e6caa",
   "metadata": {},
   "outputs": [],
   "source": [
    "l=['a','b','abc','def']\n"
   ]
  },
  {
   "cell_type": "code",
   "execution_count": 29,
   "id": "376a4621-811f-490d-bf47-85e3ed99b748",
   "metadata": {},
   "outputs": [],
   "source": [
    "l[0]='Mango'     # List is Mutable"
   ]
  },
  {
   "cell_type": "code",
   "execution_count": 28,
   "id": "b3741593-0bd3-44cc-b19d-041a1202dc9e",
   "metadata": {},
   "outputs": [
    {
     "data": {
      "text/plain": [
       "['Mango', 'b', 'abc', 'def']"
      ]
     },
     "execution_count": 28,
     "metadata": {},
     "output_type": "execute_result"
    }
   ],
   "source": [
    "l"
   ]
  },
  {
   "cell_type": "code",
   "execution_count": 30,
   "id": "567cd80e-fdbe-4507-8262-bfacd0b25055",
   "metadata": {},
   "outputs": [],
   "source": [
    "s1='Ladysfinger'"
   ]
  },
  {
   "cell_type": "code",
   "execution_count": 32,
   "id": "33654cbe-34af-4e39-b6f1-60eae68adeba",
   "metadata": {},
   "outputs": [
    {
     "ename": "TypeError",
     "evalue": "'str' object does not support item assignment",
     "output_type": "error",
     "traceback": [
      "\u001b[0;31m---------------------------------------------------------------------------\u001b[0m",
      "\u001b[0;31mTypeError\u001b[0m                                 Traceback (most recent call last)",
      "Cell \u001b[0;32mIn[32], line 1\u001b[0m\n\u001b[0;32m----> 1\u001b[0m \u001b[43ms1\u001b[49m\u001b[43m[\u001b[49m\u001b[38;5;241;43m0\u001b[39;49m\u001b[43m]\u001b[49m\u001b[38;5;241m=\u001b[39m\u001b[38;5;124m'\u001b[39m\u001b[38;5;124mM\u001b[39m\u001b[38;5;124m'\u001b[39m        \u001b[38;5;66;03m# String is immutable\u001b[39;00m\n",
      "\u001b[0;31mTypeError\u001b[0m: 'str' object does not support item assignment"
     ]
    }
   ],
   "source": [
    "s1[0]='M'        # String is immutable"
   ]
  },
  {
   "cell_type": "code",
   "execution_count": null,
   "id": "5aa95744-d379-4bc3-ada5-a35a3ba7313e",
   "metadata": {},
   "outputs": [],
   "source": []
  }
 ],
 "metadata": {
  "kernelspec": {
   "display_name": "Python 3 (ipykernel)",
   "language": "python",
   "name": "python3"
  },
  "language_info": {
   "codemirror_mode": {
    "name": "ipython",
    "version": 3
   },
   "file_extension": ".py",
   "mimetype": "text/x-python",
   "name": "python",
   "nbconvert_exporter": "python",
   "pygments_lexer": "ipython3",
   "version": "3.10.8"
  }
 },
 "nbformat": 4,
 "nbformat_minor": 5
}

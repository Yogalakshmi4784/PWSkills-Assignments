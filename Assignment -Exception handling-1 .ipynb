{
 "cells": [
  {
   "cell_type": "markdown",
   "id": "8edf9321",
   "metadata": {},
   "source": [
    "### Q1.What is an Exception in python? Write the difference between Exceptions and syntax errors.\n",
    "\n",
    "An exception in Python is an error or unexpected condition that disrupts a program's normal flow. It's raised during runtime. Syntax errors, on the other hand, occur during code writing and indicate a violation of Python's syntax rules. Exceptions are runtime errors, while syntax errors are compile-time errors."
   ]
  },
  {
   "cell_type": "markdown",
   "id": "0c121f27",
   "metadata": {},
   "source": [
    "### Q2. What happens when an exception is not handled? Explain with an example.\n",
    "\n",
    "When an exception is not handled, it propagates up the call stack, potentially causing the program to terminate abruptly and displaying an error message. For example :"
   ]
  },
  {
   "cell_type": "code",
   "execution_count": 1,
   "id": "925156ad",
   "metadata": {},
   "outputs": [
    {
     "ename": "SyntaxError",
     "evalue": "unexpected EOF while parsing (1984939180.py, line 2)",
     "output_type": "error",
     "traceback": [
      "\u001b[1;36m  Cell \u001b[1;32mIn[1], line 2\u001b[1;36m\u001b[0m\n\u001b[1;33m    f=open('text.txt','r')\u001b[0m\n\u001b[1;37m                          ^\u001b[0m\n\u001b[1;31mSyntaxError\u001b[0m\u001b[1;31m:\u001b[0m unexpected EOF while parsing\n"
     ]
    }
   ],
   "source": [
    "try:\n",
    "    f=open('text.txt','r')\n",
    "    "
   ]
  },
  {
   "cell_type": "markdown",
   "id": "b50e5b95",
   "metadata": {},
   "source": [
    "### Q3. Which Python statements are used to catch and handle exceptions? Explain with an example\n",
    "\n",
    "try is used to catch an exception and except is used to handle the exceptions. For eg:"
   ]
  },
  {
   "cell_type": "code",
   "execution_count": 2,
   "id": "841daa8c",
   "metadata": {},
   "outputs": [
    {
     "name": "stdout",
     "output_type": "stream",
     "text": [
      "There is some issue with my code [Errno 2] No such file or directory: 'text.txt1'\n"
     ]
    }
   ],
   "source": [
    "try:\n",
    "    f=open('text.txt1','r')\n",
    "except Exception as e:\n",
    "    print('There is some issue with my code',e)\n"
   ]
  },
  {
   "cell_type": "markdown",
   "id": "7225d34a",
   "metadata": {},
   "source": [
    "### Q4. Explain with an example:\n",
    "    a) try and else\n",
    "    b) finally\n",
    "    c) raise"
   ]
  },
  {
   "cell_type": "code",
   "execution_count": 3,
   "id": "0361537a",
   "metadata": {},
   "outputs": [
    {
     "name": "stdout",
     "output_type": "stream",
     "text": [
      "Yoga is my name\n"
     ]
    }
   ],
   "source": [
    "try:\n",
    "    f=open('text.txt','r')\n",
    "except Exception as e:\n",
    "    print('There is some issue with my code',e)\n",
    "else:\n",
    "    print(\"Yoga is my name\")   "
   ]
  },
  {
   "cell_type": "markdown",
   "id": "259bd351",
   "metadata": {},
   "source": [
    "b)Finally"
   ]
  },
  {
   "cell_type": "code",
   "execution_count": 4,
   "id": "20107f57",
   "metadata": {},
   "outputs": [
    {
     "name": "stdout",
     "output_type": "stream",
     "text": [
      "There is some issue with my code [Errno 2] No such file or directory: 'text2.txt'\n",
      "PRogram has completed\n"
     ]
    }
   ],
   "source": [
    "try:\n",
    "    f=open('text2.txt','r')\n",
    "    f.write(\"This is my code\")\n",
    "except Exception as e:\n",
    "    print('There is some issue with my code',e)\n",
    "else:\n",
    "    f.close()\n",
    "    print('File has closed')\n",
    "finally:\n",
    "    print(\"PRogram has completed\")"
   ]
  },
  {
   "cell_type": "markdown",
   "id": "6cbe0639",
   "metadata": {},
   "source": [
    "c) raise"
   ]
  },
  {
   "cell_type": "code",
   "execution_count": 5,
   "id": "c66eff41",
   "metadata": {},
   "outputs": [],
   "source": [
    "class validateage(Exception):\n",
    "    def __init__(self,msg):\n",
    "        self.msg=msg\n",
    "\n",
    "\n"
   ]
  },
  {
   "cell_type": "code",
   "execution_count": 6,
   "id": "8db7f99c",
   "metadata": {},
   "outputs": [],
   "source": [
    "def validate_age(age):\n",
    "    if(age<0):\n",
    "        raise validateage('Age should not be lesser than zero')\n",
    "    elif (age>200):\n",
    "        raise validateage('Age is too high')\n",
    "    else:\n",
    "        print(\"age is valid\")"
   ]
  },
  {
   "cell_type": "code",
   "execution_count": 7,
   "id": "10543ccc",
   "metadata": {},
   "outputs": [
    {
     "name": "stdout",
     "output_type": "stream",
     "text": [
      "Enter your age:-23\n",
      "Age should not be lesser than zero\n"
     ]
    }
   ],
   "source": [
    "try:\n",
    "    age=int(input('Enter your age:'))\n",
    "    validate_age(age)\n",
    "except validateage as e:\n",
    "    print(e)"
   ]
  },
  {
   "cell_type": "markdown",
   "id": "20bf381b",
   "metadata": {},
   "source": [
    "### Q5. What are Custom Exceptions in python? Why do we need Custom Exceptions? Explain with an example"
   ]
  },
  {
   "cell_type": "markdown",
   "id": "a9b3d017",
   "metadata": {},
   "source": [
    "Custom exceptions in Python are user-defined exception classes. They're created to handle specific error situations not covered by built-in exceptions. Custom exceptions make code more readable and help differentiate between various error conditions. For example, defining a FileNotFoundError exception for a custom file-handling module clarifies the error source."
   ]
  },
  {
   "cell_type": "code",
   "execution_count": 8,
   "id": "15ebb8de",
   "metadata": {},
   "outputs": [
    {
     "name": "stdout",
     "output_type": "stream",
     "text": [
      "There is some issue with my code [Errno 2] No such file or directory: 'text2.txt'\n",
      "PRogram has completed\n"
     ]
    }
   ],
   "source": [
    "try:\n",
    "    f=open('text2.txt','r')\n",
    "    f.write(\"This is my code\")\n",
    "except Exception as e:\n",
    "    print('There is some issue with my code',e)\n",
    "else:\n",
    "    f.close()\n",
    "    print('File has closed')\n",
    "finally:\n",
    "    print(\"PRogram has completed\")"
   ]
  },
  {
   "cell_type": "markdown",
   "id": "1bc64c18",
   "metadata": {},
   "source": [
    "### Q6. Create custom exception class. Use this class to handle an exception."
   ]
  },
  {
   "cell_type": "code",
   "execution_count": 9,
   "id": "b980b14e",
   "metadata": {},
   "outputs": [],
   "source": [
    "class validateage(Exception):\n",
    "    def __init__(self,msg):\n",
    "        self.msg=msg\n"
   ]
  },
  {
   "cell_type": "code",
   "execution_count": 10,
   "id": "ef2d89d3",
   "metadata": {},
   "outputs": [],
   "source": [
    "def validate_age(age):\n",
    "    if(age<22):\n",
    "        raise validateage('Application rejected for this age cadre')\n",
    "    elif (age>30):\n",
    "        raise validateage('Age is too high.Application rejected for this age cadre')\n",
    "    else:\n",
    "        print(\"Application accepted. Age is valid\")"
   ]
  },
  {
   "cell_type": "code",
   "execution_count": 11,
   "id": "35ee97fd",
   "metadata": {},
   "outputs": [
    {
     "name": "stdout",
     "output_type": "stream",
     "text": [
      "Enter your age:32\n",
      "Age is too high.Application rejected for this age cadre\n"
     ]
    }
   ],
   "source": [
    "try:\n",
    "    age=int(input('Enter your age:'))\n",
    "    validate_age(age)\n",
    "except validateage as e:\n",
    "    print(e)"
   ]
  },
  {
   "cell_type": "code",
   "execution_count": 12,
   "id": "af11a7f7",
   "metadata": {},
   "outputs": [
    {
     "name": "stdout",
     "output_type": "stream",
     "text": [
      "Enter your age:25\n",
      "Application accepted. Age is valid\n"
     ]
    }
   ],
   "source": [
    "try:\n",
    "    age=int(input('Enter your age:'))\n",
    "    validate_age(age)\n",
    "except validateage as e:\n",
    "    print(e)"
   ]
  },
  {
   "cell_type": "code",
   "execution_count": 13,
   "id": "736229cf",
   "metadata": {},
   "outputs": [
    {
     "name": "stdout",
     "output_type": "stream",
     "text": [
      "Enter your age:18\n",
      "Application rejected for this age cadre\n"
     ]
    }
   ],
   "source": [
    "try:\n",
    "    age=int(input('Enter your age:'))\n",
    "    validate_age(age)\n",
    "except validateage as e:\n",
    "    print(e)"
   ]
  },
  {
   "cell_type": "code",
   "execution_count": null,
   "id": "a2b5cde2",
   "metadata": {},
   "outputs": [],
   "source": []
  }
 ],
 "metadata": {
  "kernelspec": {
   "display_name": "Python 3 (ipykernel)",
   "language": "python",
   "name": "python3"
  },
  "language_info": {
   "codemirror_mode": {
    "name": "ipython",
    "version": 3
   },
   "file_extension": ".py",
   "mimetype": "text/x-python",
   "name": "python",
   "nbconvert_exporter": "python",
   "pygments_lexer": "ipython3",
   "version": "3.9.13"
  }
 },
 "nbformat": 4,
 "nbformat_minor": 5
}

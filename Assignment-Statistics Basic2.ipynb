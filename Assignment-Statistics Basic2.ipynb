{
 "cells": [
  {
   "cell_type": "markdown",
   "id": "50d7b4fc-1915-429d-b8d9-16e246d37a53",
   "metadata": {},
   "source": [
    "#### Q1. What are the three measures of central tendency?"
   ]
  },
  {
   "cell_type": "markdown",
   "id": "dce7d425-4ff0-427a-b3a9-ac6b76ef8e84",
   "metadata": {},
   "source": [
    "#### The three measures of central tendency are Mean, Median and Mode."
   ]
  },
  {
   "cell_type": "markdown",
   "id": "9ddcfaf1-d9fe-4487-8ef7-ef911500ddab",
   "metadata": {},
   "source": [
    "#### Q2. What is the difference between the mean, median, and mode? How are they used to measure the central tendency of a dataset?"
   ]
  },
  {
   "cell_type": "markdown",
   "id": "27c9f3ef-b87e-4761-806a-684dc044e853",
   "metadata": {},
   "source": [
    "#### The mean, median, and mode are measures of central tendency used to describe the center or typical value of a dataset.\n",
    "\n",
    "#### Mean: It's the average calculated by summing all values and dividing by the number of data points. It's sensitive to outliers and provides an overall view of the data.\n",
    "\n",
    "#### Median: It's the middle value when data is sorted, or the average of the two middle values for an even dataset. It's robust to outliers and represents the middle point of the data.\n",
    "\n",
    "#### Mode: It's the most frequent value in the dataset. \n",
    "\n",
    "#### These measures help summarize data and provide insights into its central tendency."
   ]
  },
  {
   "cell_type": "markdown",
   "id": "b8eb4506-122d-4850-b443-eaf04fce1dce",
   "metadata": {},
   "source": [
    "#### Q3. Measure the three measures of central tendency for the given height data:\n"
   ]
  },
  {
   "cell_type": "code",
   "execution_count": 1,
   "id": "c93c1521-2868-4022-9ad3-d0bf47e2d6ac",
   "metadata": {},
   "outputs": [],
   "source": [
    "height=[178,177,176,177,178.2,178,175,179,180,175,178.9,176.2,177,172.5,178,176.5]"
   ]
  },
  {
   "cell_type": "code",
   "execution_count": 2,
   "id": "6e894841-ca14-42c7-b6b7-9fa71e00e68f",
   "metadata": {},
   "outputs": [],
   "source": [
    "import numpy as np"
   ]
  },
  {
   "cell_type": "code",
   "execution_count": 4,
   "id": "3947af51-a0ba-47bb-a71d-bb58125f4357",
   "metadata": {},
   "outputs": [
    {
     "data": {
      "text/plain": [
       "177.01875"
      ]
     },
     "execution_count": 4,
     "metadata": {},
     "output_type": "execute_result"
    }
   ],
   "source": [
    "mean=np.mean(height)\n",
    "mean"
   ]
  },
  {
   "cell_type": "code",
   "execution_count": 6,
   "id": "a419852d-5343-417a-a7c2-b7080f20730b",
   "metadata": {},
   "outputs": [
    {
     "data": {
      "text/plain": [
       "177.0"
      ]
     },
     "execution_count": 6,
     "metadata": {},
     "output_type": "execute_result"
    }
   ],
   "source": [
    "median=np.median(height)\n",
    "median"
   ]
  },
  {
   "cell_type": "code",
   "execution_count": 8,
   "id": "8c969cf1-117a-4251-b80f-c544de9f6aa9",
   "metadata": {},
   "outputs": [
    {
     "name": "stderr",
     "output_type": "stream",
     "text": [
      "/tmp/ipykernel_549/3470998064.py:2: FutureWarning: Unlike other reduction functions (e.g. `skew`, `kurtosis`), the default behavior of `mode` typically preserves the axis it acts along. In SciPy 1.11.0, this behavior will change: the default value of `keepdims` will become False, the `axis` over which the statistic is taken will be eliminated, and the value None will no longer be accepted. Set `keepdims` to True or False to avoid this warning.\n",
      "  mode=stats.mode(height)\n"
     ]
    },
    {
     "data": {
      "text/plain": [
       "ModeResult(mode=array([177.]), count=array([3]))"
      ]
     },
     "execution_count": 8,
     "metadata": {},
     "output_type": "execute_result"
    }
   ],
   "source": [
    "from scipy import stats\n",
    "mode=stats.mode(height)\n",
    "mode"
   ]
  },
  {
   "cell_type": "markdown",
   "id": "736f6fda-2206-42c5-8bfc-9e9ffbfcea89",
   "metadata": {},
   "source": [
    "#### Q4. Find the standard deviation for the given data:\n"
   ]
  },
  {
   "cell_type": "code",
   "execution_count": 9,
   "id": "c7feec06-d56e-4e3a-a820-9e9ae8bc94e4",
   "metadata": {},
   "outputs": [],
   "source": [
    "data=[178,177,176,177,178.2,178,175,179,180,175,178.9,176.2,177,172.5,178,176.5]"
   ]
  },
  {
   "cell_type": "code",
   "execution_count": 11,
   "id": "113fd72e-158e-4d6c-8bed-96ab0ba36349",
   "metadata": {},
   "outputs": [
    {
     "data": {
      "text/plain": [
       "1.7885814036548633"
      ]
     },
     "execution_count": 11,
     "metadata": {},
     "output_type": "execute_result"
    }
   ],
   "source": [
    "stddev=np.std(data)\n",
    "stddev"
   ]
  },
  {
   "cell_type": "markdown",
   "id": "f18d6cbe-6342-4851-a279-9979d9f90236",
   "metadata": {},
   "source": [
    "#### Q5. How are measures of dispersion such as range, variance, and standard deviation used to describe the spread of a dataset? Provide an example."
   ]
  },
  {
   "cell_type": "markdown",
   "id": "86abea2a-df93-4ffb-b4a2-5ef8a5def97e",
   "metadata": {},
   "source": [
    "#### Measures of dispersion like range, variance, and standard deviation quantify the spread or variability within a dataset.\n",
    "\n",
    "#### Range: It's the difference between the maximum and minimum values in a dataset, offering a simple way to gauge the data's spread. For example, in a dataset of test scores (80, 85, 90, 95, 100), the range is 20 (100 - 80).\n",
    "\n",
    "#### Variance: It calculates the average of the squared differences between each data point and the mean. Higher variance indicates greater dispersion.\n",
    "\n",
    "#### Standard Deviation: It's the square root of the variance, providing a measure of dispersion in the original units of the data.\n",
    "\n",
    "#### These measures help understand how spread out data points are, giving insights into data variability."
   ]
  },
  {
   "cell_type": "code",
   "execution_count": 12,
   "id": "8c7f080b-33a0-491b-b429-06e329583b6a",
   "metadata": {},
   "outputs": [],
   "source": [
    "data=[178,177,176,177,178.2,178,175,179,180,175,178.9,176.2,177,172.5,178,176.5]"
   ]
  },
  {
   "cell_type": "code",
   "execution_count": 18,
   "id": "e9581c44-440b-4162-b27c-ca383616bec5",
   "metadata": {},
   "outputs": [
    {
     "data": {
      "text/plain": [
       "7.5"
      ]
     },
     "execution_count": 18,
     "metadata": {},
     "output_type": "execute_result"
    }
   ],
   "source": [
    "min_data=min(data)\n",
    "max_data=max(data)\n",
    "range=max_data-min_data\n",
    "range"
   ]
  },
  {
   "cell_type": "code",
   "execution_count": 19,
   "id": "b11aae37-dfce-44e8-b7a9-d07d8ed9bbdf",
   "metadata": {},
   "outputs": [
    {
     "data": {
      "text/plain": [
       "1.7885814036548633"
      ]
     },
     "execution_count": 19,
     "metadata": {},
     "output_type": "execute_result"
    }
   ],
   "source": [
    "stddev=np.std(data)\n",
    "stddev"
   ]
  },
  {
   "cell_type": "code",
   "execution_count": 17,
   "id": "4a8be7d3-d61c-4fd8-97c0-8e367130b294",
   "metadata": {},
   "outputs": [
    {
     "data": {
      "text/plain": [
       "3.199023437500001"
      ]
     },
     "execution_count": 17,
     "metadata": {},
     "output_type": "execute_result"
    }
   ],
   "source": [
    "variance=np.var(data)\n",
    "variance"
   ]
  },
  {
   "cell_type": "markdown",
   "id": "99d02984-7984-46ad-998b-9538af5a0c2f",
   "metadata": {},
   "source": [
    "#### Q6. What is a Venn diagram?"
   ]
  },
  {
   "cell_type": "markdown",
   "id": "90d065f1-36e5-4557-9f03-54c1d77d7ce5",
   "metadata": {},
   "source": [
    "#### A Venn diagram is a visual representation used to illustrate the relationships and commonalities between different sets or groups. "
   ]
  },
  {
   "cell_type": "markdown",
   "id": "b32cb283-da9b-408f-94c3-0a5862d47bcb",
   "metadata": {},
   "source": [
    "#### Q7. For the two given sets A = (2,3,4,5,6,7) & B = (0,2,6,8,10). Find:\n",
    "#### (i) A B\n",
    "#### (ii) A ⋃ B"
   ]
  },
  {
   "cell_type": "code",
   "execution_count": 22,
   "id": "dce99b86-7058-4b70-b9b3-5402b25c57f4",
   "metadata": {},
   "outputs": [],
   "source": [
    "A = {2,3,4,5,6,7}\n",
    "B = {0,2,6,8,10}"
   ]
  },
  {
   "cell_type": "code",
   "execution_count": 26,
   "id": "52758f4e-658a-4b4a-a2a3-fd30fd69a136",
   "metadata": {},
   "outputs": [
    {
     "data": {
      "text/plain": [
       "{2, 6}"
      ]
     },
     "execution_count": 26,
     "metadata": {},
     "output_type": "execute_result"
    }
   ],
   "source": [
    "inters=A.intersection(B)\n",
    "inters"
   ]
  },
  {
   "cell_type": "code",
   "execution_count": 27,
   "id": "08b54680-10e9-4e59-8675-c7f1de399368",
   "metadata": {},
   "outputs": [
    {
     "data": {
      "text/plain": [
       "{0, 2, 3, 4, 5, 6, 7, 8, 10}"
      ]
     },
     "execution_count": 27,
     "metadata": {},
     "output_type": "execute_result"
    }
   ],
   "source": [
    "uni=A.union(B)\n",
    "uni"
   ]
  },
  {
   "cell_type": "markdown",
   "id": "6a3b9eca-466c-40ba-ad6d-bc70da762859",
   "metadata": {},
   "source": [
    "#### Q8. What do you understand about skewness in data?"
   ]
  },
  {
   "cell_type": "markdown",
   "id": "ccbd8bc7-a9f0-4d26-aee9-21af2bf15a80",
   "metadata": {},
   "source": [
    "#### Skewness is a statistical measure that describes the asymmetry or lack of symmetry in the distribution of data. It indicates the extent to which data is skewed or tilted to one side.\n",
    "\n",
    "#### - Positively skewed (right-skewed): The tail of the distribution extends to the right, with a majority of data points clustered on the left. The mean is typically greater than the median.\n",
    "\n",
    "#### - Negatively skewed (left-skewed): The tail of the distribution extends to the left, with most data points concentrated on the right. The mean is generally less than the median."
   ]
  },
  {
   "cell_type": "markdown",
   "id": "cf4aa7e5-6d43-46eb-8ac3-499767d29162",
   "metadata": {},
   "source": [
    "#### Q9. If a data is right skewed then what will be the position of median with respect to mean?"
   ]
  },
  {
   "cell_type": "markdown",
   "id": "d0b8af47-c542-48fb-80fc-826a07c201b8",
   "metadata": {},
   "source": [
    "#### Positively skewed (right-skewed): The tail of the distribution extends to the right, with a majority of data points clustered on the left. The mean is typically greater than the median."
   ]
  },
  {
   "cell_type": "markdown",
   "id": "d21646f3-1bd5-48e7-9d48-9853ef7b96c8",
   "metadata": {},
   "source": [
    "#### Q10. Explain the difference between covariance and correlation. How are these measures used instatistical analysis?"
   ]
  },
  {
   "cell_type": "markdown",
   "id": "33574a0e-bf96-4d2d-866f-cc96e1b077b2",
   "metadata": {},
   "source": [
    "#### Covariance and correlation both measure the relationship between two variables in statistics:\n",
    "\n",
    "#### Covariance quantifies the degree to which two variables change together. Positive values indicate a positive relationship, negative values a negative one, and zero means no relationship.\n",
    "\n",
    "#### Correlation, specifically Pearson correlation, normalizes covariance by dividing it by the product of the variables' standard deviations. It ranges from -1 to 1, where 1 indicates a perfect positive linear relationship, -1 a perfect negative linear relationship, and 0 no linear relationship. Correlation is unitless and easier to interpret."
   ]
  },
  {
   "cell_type": "markdown",
   "id": "7cf6105b-ca9b-4053-bfe8-e3b9fa9f7dd0",
   "metadata": {},
   "source": [
    "#### Q11. What is the formula for calculating the sample mean? Provide an example calculation for a dataset."
   ]
  },
  {
   "attachments": {
    "c200dd26-ccc0-4a36-a75e-a9e352e9d113.png": {
     "image/png": "[encoded data removed]"
    }
   },
   "cell_type": "markdown",
   "id": "82a51e32-b51a-45eb-8a9e-8dc470edc3c3",
   "metadata": {},
   "source": [
    "![image.png](attachment:c200dd26-ccc0-4a36-a75e-a9e352e9d113.png)"
   ]
  },
  {
   "cell_type": "code",
   "execution_count": 30,
   "id": "92e9d43a-12d7-46c4-9890-d8751a4ded28",
   "metadata": {},
   "outputs": [
    {
     "data": {
      "text/plain": [
       "41.2"
      ]
     },
     "execution_count": 30,
     "metadata": {},
     "output_type": "execute_result"
    }
   ],
   "source": [
    "age=[23,55,6,44,78]\n",
    "mean=(23+55+6+44+78)/5\n",
    "mean\n"
   ]
  },
  {
   "cell_type": "markdown",
   "id": "98218a69-a874-4ce6-93b9-89dfaf352057",
   "metadata": {},
   "source": [
    "#### Q12. For a normal distribution data what is the relationship between its measure of central tendency?"
   ]
  },
  {
   "cell_type": "markdown",
   "id": "1e57f26e-1a76-49cc-985b-3ba606c4ba13",
   "metadata": {},
   "source": [
    "#### Mean=Median=Mode"
   ]
  },
  {
   "cell_type": "markdown",
   "id": "57080119-96e2-482e-b498-3a27570e430e",
   "metadata": {},
   "source": [
    "#### Q13. How is covariance different from correlation?\n",
    "\n",
    "#### Covariance shows how the two variables differ, whereas correlation shows how the two variables are related"
   ]
  },
  {
   "cell_type": "markdown",
   "id": "ec067da0-a797-4793-9dc7-2ca44d74238e",
   "metadata": {},
   "source": [
    "#### Q14. How do outliers affect measures of central tendency and dispersion? Provide an example."
   ]
  },
  {
   "cell_type": "markdown",
   "id": "dcdcf228-e445-4a71-a2f3-475d0b2107d1",
   "metadata": {},
   "source": [
    "#### Measures of Central Tendency:\n",
    "\n",
    "#### - Mean: Outliers can pull the mean away from the center of the data, making it an inaccurate representation of the typical value.\n",
    "#### - Median: The median is less affected by outliers, as it's less sensitive to extreme values.\n",
    "#### - Mode: Outliers may not affect the mode since it's the most frequently occurring value.\n",
    "\n",
    "#### Measures of Dispersion (e.g., Variance and Standard Deviation):\n",
    "\n",
    "#### - Outliers can increase variance and standard deviation, as they introduce additional variability."
   ]
  },
  {
   "cell_type": "code",
   "execution_count": 32,
   "id": "d2eeda57-4269-400d-8a69-023195be05d6",
   "metadata": {},
   "outputs": [],
   "source": [
    " ages =[20, 22, 25, 26, 30]"
   ]
  },
  {
   "cell_type": "code",
   "execution_count": 34,
   "id": "3433eee0-2c45-4c78-9749-ecdd7a728891",
   "metadata": {},
   "outputs": [
    {
     "name": "stderr",
     "output_type": "stream",
     "text": [
      "/tmp/ipykernel_549/2232050120.py:3: FutureWarning: Unlike other reduction functions (e.g. `skew`, `kurtosis`), the default behavior of `mode` typically preserves the axis it acts along. In SciPy 1.11.0, this behavior will change: the default value of `keepdims` will become False, the `axis` over which the statistic is taken will be eliminated, and the value None will no longer be accepted. Set `keepdims` to True or False to avoid this warning.\n",
      "  mode=stats.mode(ages)\n"
     ]
    }
   ],
   "source": [
    "mean=np.mean(ages)\n",
    "median=np.median(ages)\n",
    "mode=stats.mode(ages)\n",
    "var=np.var(ages)\n",
    "stddev=np.std(ages)"
   ]
  },
  {
   "cell_type": "code",
   "execution_count": 35,
   "id": "9d0f4761-e86b-4571-bf4f-702cb678c1a2",
   "metadata": {},
   "outputs": [
    {
     "data": {
      "text/plain": [
       "24.6"
      ]
     },
     "execution_count": 35,
     "metadata": {},
     "output_type": "execute_result"
    }
   ],
   "source": [
    "mean"
   ]
  },
  {
   "cell_type": "code",
   "execution_count": 36,
   "id": "d9e6fae8-374c-4509-b1f5-161e6b382baa",
   "metadata": {},
   "outputs": [
    {
     "data": {
      "text/plain": [
       "25.0"
      ]
     },
     "execution_count": 36,
     "metadata": {},
     "output_type": "execute_result"
    }
   ],
   "source": [
    "median"
   ]
  },
  {
   "cell_type": "code",
   "execution_count": 37,
   "id": "4049be07-ae23-48b0-98d8-43f7d631302f",
   "metadata": {},
   "outputs": [
    {
     "data": {
      "text/plain": [
       "ModeResult(mode=array([20]), count=array([1]))"
      ]
     },
     "execution_count": 37,
     "metadata": {},
     "output_type": "execute_result"
    }
   ],
   "source": [
    "mode"
   ]
  },
  {
   "cell_type": "code",
   "execution_count": 38,
   "id": "ff3aa4fb-9791-48a6-a8f0-9be620bf6a19",
   "metadata": {},
   "outputs": [
    {
     "data": {
      "text/plain": [
       "11.84"
      ]
     },
     "execution_count": 38,
     "metadata": {},
     "output_type": "execute_result"
    }
   ],
   "source": [
    "var"
   ]
  },
  {
   "cell_type": "code",
   "execution_count": 39,
   "id": "812ce08b-ed92-4518-a945-be4aa19b5ec6",
   "metadata": {},
   "outputs": [
    {
     "data": {
      "text/plain": [
       "3.4409301068170506"
      ]
     },
     "execution_count": 39,
     "metadata": {},
     "output_type": "execute_result"
    }
   ],
   "source": [
    "stddev"
   ]
  },
  {
   "cell_type": "markdown",
   "id": "933f77da-40f8-4dd9-b60c-7c51b557c772",
   "metadata": {},
   "source": [
    "# after introducing outlier 200"
   ]
  },
  {
   "cell_type": "code",
   "execution_count": 44,
   "id": "98c15f15-2418-4f60-90f4-aa6c139cebf5",
   "metadata": {},
   "outputs": [],
   "source": [
    " ages =[20, 22, 25, 26, 30,200]"
   ]
  },
  {
   "cell_type": "code",
   "execution_count": 45,
   "id": "94e2f402-8d58-48cb-983e-881c15fd04de",
   "metadata": {},
   "outputs": [
    {
     "name": "stderr",
     "output_type": "stream",
     "text": [
      "/tmp/ipykernel_549/2232050120.py:3: FutureWarning: Unlike other reduction functions (e.g. `skew`, `kurtosis`), the default behavior of `mode` typically preserves the axis it acts along. In SciPy 1.11.0, this behavior will change: the default value of `keepdims` will become False, the `axis` over which the statistic is taken will be eliminated, and the value None will no longer be accepted. Set `keepdims` to True or False to avoid this warning.\n",
      "  mode=stats.mode(ages)\n"
     ]
    }
   ],
   "source": [
    "mean=np.mean(ages)\n",
    "median=np.median(ages)\n",
    "mode=stats.mode(ages)\n",
    "var=np.var(ages)\n",
    "stddev=np.std(ages)"
   ]
  },
  {
   "cell_type": "code",
   "execution_count": 46,
   "id": "a88ede86-6c2f-4f42-a45d-3be9ef5b26dc",
   "metadata": {},
   "outputs": [
    {
     "data": {
      "text/plain": [
       "53.833333333333336"
      ]
     },
     "execution_count": 46,
     "metadata": {},
     "output_type": "execute_result"
    }
   ],
   "source": [
    "mean"
   ]
  },
  {
   "cell_type": "code",
   "execution_count": 47,
   "id": "4a587b1e-ed4a-4c49-a6b1-a68718d03be8",
   "metadata": {},
   "outputs": [
    {
     "data": {
      "text/plain": [
       "25.5"
      ]
     },
     "execution_count": 47,
     "metadata": {},
     "output_type": "execute_result"
    }
   ],
   "source": [
    "median"
   ]
  },
  {
   "cell_type": "code",
   "execution_count": 48,
   "id": "70cbbac1-b01b-4d73-aad4-3e8004582c6d",
   "metadata": {},
   "outputs": [
    {
     "data": {
      "text/plain": [
       "ModeResult(mode=array([20]), count=array([1]))"
      ]
     },
     "execution_count": 48,
     "metadata": {},
     "output_type": "execute_result"
    }
   ],
   "source": [
    "mode"
   ]
  },
  {
   "cell_type": "code",
   "execution_count": 49,
   "id": "ff288b98-1e15-4513-a64e-0fab7173228c",
   "metadata": {},
   "outputs": [
    {
     "data": {
      "text/plain": [
       "4282.805555555556"
      ]
     },
     "execution_count": 49,
     "metadata": {},
     "output_type": "execute_result"
    }
   ],
   "source": [
    "var"
   ]
  },
  {
   "cell_type": "code",
   "execution_count": 50,
   "id": "de628f72-da39-40e8-aaa5-61dd124b39f1",
   "metadata": {},
   "outputs": [
    {
     "data": {
      "text/plain": [
       "65.44314750648502"
      ]
     },
     "execution_count": 50,
     "metadata": {},
     "output_type": "execute_result"
    }
   ],
   "source": [
    "stddev"
   ]
  },
  {
   "cell_type": "markdown",
   "id": "3538f134-8767-4268-8666-55e6614df747",
   "metadata": {},
   "source": [
    "After introducing an outlier to the ages list, mean, variance and standard deviation has a drastic change in values"
   ]
  }
 ],
 "metadata": {
  "kernelspec": {
   "display_name": "Python 3 (ipykernel)",
   "language": "python",
   "name": "python3"
  },
  "language_info": {
   "codemirror_mode": {
    "name": "ipython",
    "version": 3
   },
   "file_extension": ".py",
   "mimetype": "text/x-python",
   "name": "python",
   "nbconvert_exporter": "python",
   "pygments_lexer": "ipython3",
   "version": "3.10.8"
  }
 },
 "nbformat": 4,
 "nbformat_minor": 5
}

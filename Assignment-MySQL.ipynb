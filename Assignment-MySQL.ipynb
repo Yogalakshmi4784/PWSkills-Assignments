{
 "cells": [
  {
   "cell_type": "markdown",
   "id": "041cce36-81e2-40d0-832f-f131e1a09139",
   "metadata": {},
   "source": [
    "#### Q1. What is a database? Differentiate between SQL and NoSQL databases. explain in 75 words"
   ]
  },
  {
   "cell_type": "markdown",
   "id": "d4dffd73-b3d1-400e-ba1c-f297671ecd75",
   "metadata": {},
   "source": [
    "##### A database is a structured collection of data that allows for efficient storage, retrieval, and management of information. SQL (Structured Query Language) and NoSQL (Not Only SQL) databases are two main types:\n",
    "\n",
    "##### - SQL databases are relational databases with a predefined schema, using tables to store data. They ensure data consistency and support complex queries, making them ideal for structured data. Examples include MySQL and PostgreSQL.\n",
    "\n",
    "##### - NoSQL databases are non-relational, offering flexibility with schema-less data storage. They excel at handling unstructured or semi-structured data, making them suitable for rapidly changing data requirements. Examples include MongoDB and Cassandra."
   ]
  },
  {
   "cell_type": "markdown",
   "id": "d40ccc20-9a9f-4e8d-86d0-f7db577b7d48",
   "metadata": {},
   "source": [
    "#### Q2. What is DDL? Explain why CREATE, DROP, ALTER, and TRUNCATE are used with an example."
   ]
  },
  {
   "cell_type": "markdown",
   "id": "aa6b47f2-3c5b-469b-b64c-b40f48d2b2f0",
   "metadata": {},
   "source": [
    "# The below code covers the examples for DDL, DML and DQL "
   ]
  },
  {
   "cell_type": "markdown",
   "id": "fd5ce3ba-66de-4931-9945-6f5aea0aed61",
   "metadata": {},
   "source": [
    "# using MYSQL"
   ]
  },
  {
   "cell_type": "markdown",
   "id": "4181372a-5109-4672-a592-5989345f51f0",
   "metadata": {},
   "source": [
    "\n",
    "CREATE DATABASE if not exists test\n",
    "\n",
    "create table if not exists test.employee(empid int, ename VARCHAR(50),dob int,salary FLOAT)\n",
    "\n",
    "insert into test.employee values(100,'Sunita',04071984,20000);\n",
    "insert into test.employee values(101,'Anita',04101987,15000);\n",
    "insert into test.employee values(101,'Anita',04101987,15000);\n",
    "commit\n",
    "\n",
    "select * from test.employee\n",
    "\n",
    "alter table test.employee add dept varchar(50)\n",
    "\n",
    "update test.employee set dept='Retail' where salary<17000;\n",
    "commit;\n",
    "\n",
    "update test.employee set dept='sales' where salary>17000;\n",
    "commit;\n",
    "\n",
    "select * from test.employee\n",
    "\n",
    "delete from test.employee where empid=100;\n",
    "commit;\n",
    "\n",
    "truncate table test.employee;\n",
    "\n",
    "select * from test.employee;\n",
    "\n",
    "drop table test.employee;\n",
    "\n",
    "select * from test.employee;\n",
    "\n",
    "drop database test;\n",
    "\n",
    "   "
   ]
  },
  {
   "cell_type": "markdown",
   "id": "063ae4a8-dacf-40fc-8d9c-fa185111b99b",
   "metadata": {},
   "source": [
    "# using Python"
   ]
  },
  {
   "cell_type": "markdown",
   "id": "60662c6f-09b8-4565-96ad-72d6a0239b69",
   "metadata": {},
   "source": [
    "import mysql.connector\n",
    "\n",
    "##### Create a database connection\n",
    "mydb = mysql.connector.connect(\n",
    "  host=\"localhost\",\n",
    "  user=\"abc\",\n",
    "  password=\"password\"\n",
    ")\n",
    "\n",
    "##### Create a cursor to execute SQL queries\n",
    "mycursor = mydb.cursor()\n",
    "\n",
    "##### Create a database if it doesn't exist\n",
    "mycursor.execute(\"CREATE DATABASE IF NOT EXISTS test1\")\n",
    "\n",
    "##### Switch to the \"test1\" database\n",
    "mycursor.execute(\"USE test1\")\n",
    "\n",
    "##### Create a table if it doesn't exist\n",
    "mycursor.execute(\"CREATE TABLE IF NOT EXISTS employee(empid INT, ename VARCHAR(50), dob INT, salary FLOAT)\")\n",
    "\n",
    "##### Insert data into the table\n",
    "mycursor.execute(\"INSERT INTO employee VALUES (100, 'Sunita', 04071984, 20000)\")\n",
    "mycursor.execute(\"INSERT INTO employee VALUES (101, 'Anita', 04101987, 15000)\")\n",
    "mycursor.execute(\"INSERT INTO employee VALUES (102, 'John', 01011990, 18000)\")\n",
    "\n",
    "##### Commit changes to the database\n",
    "mydb.commit()\n",
    "\n",
    "##### Alter the table to add a new column\n",
    "mycursor.execute(\"ALTER TABLE employee ADD dept VARCHAR(50)\")\n",
    "\n",
    "##### Update rows in the table\n",
    "mycursor.execute(\"UPDATE employee SET dept='Retail' WHERE salary < 17000\")\n",
    "mycursor.execute(\"UPDATE employee SET dept='Sales' WHERE salary >= 17000\")\n",
    "\n",
    "##### Commit changes to the database\n",
    "mydb.commit()\n",
    "\n",
    "##### Fetch and print data from the table\n",
    "mycursor.execute(\"SELECT * FROM employee\")\n",
    "for x in mycursor.fetchall():\n",
    "    print(x)\n",
    "\n",
    "##### Delete a row from the table\n",
    "mycursor.execute(\"DELETE FROM employee WHERE empid=100\")\n",
    "\n",
    "##### Truncate the table\n",
    "mycursor.execute(\"TRUNCATE TABLE employee\")\n",
    "\n",
    "##### Drop the table\n",
    "mycursor.execute(\"DROP TABLE employee\")\n",
    "\n",
    "##### Commit changes and close the database connection\n",
    "mydb.commit()\n",
    "mydb.close()"
   ]
  },
  {
   "cell_type": "markdown",
   "id": "eea1c9f5-da13-4488-adf2-bc45aa7a8787",
   "metadata": {},
   "source": [
    "##### DDL is a data definition language and is used to define the structure of a database like tables, views, schemas and  constraints"
   ]
  },
  {
   "cell_type": "markdown",
   "id": "d3f91b17-5379-4489-b67c-9891ef18c33a",
   "metadata": {},
   "source": [
    "#### Q3. What is DML? Explain INSERT, UPDATE, and DELETE with an example."
   ]
  },
  {
   "cell_type": "markdown",
   "id": "b485dfa9-11b9-46b7-ae7c-cca870cbbd6b",
   "metadata": {},
   "source": [
    "##### DML (Data Manipulation Language) is used to manipulate data stored in a database. DML is primarily responsible for performing operations on the data within database tables"
   ]
  },
  {
   "cell_type": "markdown",
   "id": "62cb1704-9252-41a1-9b60-040277a057a0",
   "metadata": {},
   "source": [
    "#### Q4. What is DQL? Explain SELECT with an example."
   ]
  },
  {
   "cell_type": "markdown",
   "id": "2b4f9a61-fc55-48e0-91ea-03a190e0bcf8",
   "metadata": {},
   "source": [
    "##### DQL (Data Query Language) is used to retrieve, query and fetch data from one or more database tables"
   ]
  },
  {
   "cell_type": "markdown",
   "id": "9c6f8f8b-45b7-4b6c-bef0-cea8887fceed",
   "metadata": {},
   "source": [
    "#### Q5. Explain Primary Key and Foreign Key."
   ]
  },
  {
   "cell_type": "markdown",
   "id": "83e2a250-20a3-44da-80da-8800eafa0906",
   "metadata": {},
   "source": [
    "##### A primary key is a unique identifier for each record in a relational database table\n",
    "##### A foreign key is a field in a database table that establishes a link between the data in two related tables. It enforces referential integrity by ensuring that values in the foreign key column match values in the primary key column of another table, creating relationships between tables"
   ]
  },
  {
   "cell_type": "markdown",
   "id": "30feb037-2c7a-439f-b4db-2046f8a52452",
   "metadata": {},
   "source": [
    "#### Q6. Write a python code to connect MySQL to python. Explain the cursor() and execute() method."
   ]
  },
  {
   "cell_type": "markdown",
   "id": "20ff0cb2-2225-498d-a846-7990eeb1870d",
   "metadata": {},
   "source": [
    "import mysql.connector\n",
    "\n",
    "#create user 'user'@'%' identified by 'password'\n",
    "\n",
    "mydb = mysql.connector.connect(\n",
    "\n",
    "  host=\"localhost\",\n",
    "  \n",
    "  user=\"abc\",\n",
    "  \n",
    "  password=\"password\"\n",
    "  \n",
    ")\n",
    "\n",
    "print(mydb)\n",
    "\n",
    "mycursor = mydb.cursor()\n",
    "\n",
    "mycursor.execute(\"CREATE DATABASE if not exists test1\")\n",
    "\n",
    "##### The cursor() method is used to create a cursor object, it establishes a connection between your Python code and the database, allowing you to send SQL queries and retrieve data.\n",
    "\n",
    "##### The execute() method is used to execute SQL statements and queries through the cursor. It takes an SQL query as a parameter and sends it to the database for execution."
   ]
  },
  {
   "cell_type": "markdown",
   "id": "0892efe4-a18d-4623-8bd5-982a100c65d2",
   "metadata": {},
   "source": [
    "#### Q7. Give the order of execution of SQL clauses in an SQL query."
   ]
  },
  {
   "cell_type": "markdown",
   "id": "6e529711-fe21-4ce4-924f-36569f8ca50b",
   "metadata": {},
   "source": [
    "##### In SQL, when you write a query, the clauses are executed in a specific order, and the result is obtained through a series of logical steps. The order of execution for the clauses in an SQL query is as follows:\n",
    "\n",
    "##### - FROM: The FROM clause specifies the table(s) from which you are retrieving data. It identifies the source of the data for your query.\n",
    "\n",
    "##### - WHERE: The WHERE clause is used to filter rows from the tables specified in the FROM clause. It defines the conditions that must be met for a row to be included in the result set.\n",
    "\n",
    "##### - GROUP BY: If you want to group rows together based on the values in one or more columns, you use the GROUP BY clause. This clause is often used in combination with aggregate functions like SUM, COUNT, AVG, etc.\n",
    "\n",
    "##### - HAVING: The HAVING clause is used to filter the result set after grouping has been performed. It specifies conditions that must be met by groups (not individual rows) in the result set.\n",
    "\n",
    "##### - SELECT: The SELECT clause determines which columns from the tables or result sets should be included in the final output. It can also contain expressions and calculations.\n",
    "\n",
    "##### - DISTINCT: The DISTINCT keyword is used within the SELECT clause to eliminate duplicate rows from the result set.\n",
    "\n",
    "##### -  ORDER BY: The ORDER BY clause is used to sort the result set based on one or more columns in ascending (ASC) or descending (DESC) order.\n",
    "\n",
    "##### - LIMIT/OFFSET (if supported): These clauses limit the number of rows returned by the query and allow for pagination of large result sets. They are often used for displaying a specific subset of data.\n",
    "\n",
    "##### - UNION/INTERSECT/EXCEPT (if used): If your query involves combining or comparing multiple result sets, these set operations are executed at this stage."
   ]
  }
 ],
 "metadata": {
  "kernelspec": {
   "display_name": "Python 3 (ipykernel)",
   "language": "python",
   "name": "python3"
  },
  "language_info": {
   "codemirror_mode": {
    "name": "ipython",
    "version": 3
   },
   "file_extension": ".py",
   "mimetype": "text/x-python",
   "name": "python",
   "nbconvert_exporter": "python",
   "pygments_lexer": "ipython3",
   "version": "3.10.8"
  }
 },
 "nbformat": 4,
 "nbformat_minor": 5
}

{
 "cells": [
  {
   "cell_type": "markdown",
   "id": "ade28541-be5a-43bb-a93d-b6ae1efb2a32",
   "metadata": {},
   "source": [
    "#### Q1.What is multithreading in python? Why is it used? Name the module used to handle threads in python"
   ]
  },
  {
   "cell_type": "markdown",
   "id": "190bb989-ab36-42c7-b9bc-f90cea883fd4",
   "metadata": {},
   "source": [
    "#### Multithreading in Python refers to the ability to execute multiple threads concurrently, allowing for parallel execution of tasks. It's used to improve the overall performance of applications, particularly for tasks involving I/O operations, by preventing the program from getting blocked. The 'threading' module is commonly used to handle threads in Python"
   ]
  },
  {
   "cell_type": "markdown",
   "id": "cdc6a879-3f89-468e-bf0d-413133ec1306",
   "metadata": {},
   "source": [
    "#### Q2. Why threading module used? Write the use of the following functions\n",
    "#### - activeCount\n",
    "#### - currentThread\n",
    "#### - enumerate\n"
   ]
  },
  {
   "cell_type": "markdown",
   "id": "e032392c-3306-4ceb-bf37-dced091c27ea",
   "metadata": {},
   "source": [
    "#### The threading module is used in Python for creating and managing threads, allowing for concurrent execution of tasks. It provides functions to handle threads efficiently. The functions you mentioned have the following uses:\n",
    "\n",
    "#### - activeCount: This function returns the number of Thread objects currently alive. \n",
    "\n",
    "#### - currentThread: It returns the current Thread object that represents the thread from which the function is called. \n",
    "\n",
    "#### - enumerate: The enumerate function returns a list of all Thread objects currently active. "
   ]
  },
  {
   "cell_type": "markdown",
   "id": "15b2e835-6158-485f-bcd2-1cfe5f7002a7",
   "metadata": {},
   "source": [
    "#### 3. Explain the following functions\n",
    " run()\n",
    " \n",
    " start()\n",
    " \n",
    " join()\n",
    " \n",
    " isAlive()"
   ]
  },
  {
   "cell_type": "markdown",
   "id": "0740ec91-418a-49b1-a140-86d0eef8a54c",
   "metadata": {},
   "source": [
    "#### run(): This method is intended to be overridden by a subclass. It is the entry point for the thread's activity. When the start() method is called, the run() method of the target function or method will be invoked in a separate thread of control.\n",
    "\n",
    "#### start(): This method starts a thread by calling the run() method. It initiates the thread's activity and begins its execution. After a thread is started, it's placed in the \"started\" state, and the operating system can schedule its execution independently.\n",
    "\n",
    "#### join(): The join() method blocks the calling thread until the thread whose join() method is called is terminated. It ensures that one thread waits for the completion of another. \n",
    "\n",
    "#### isAlive(): The isAlive() method is used to determine whether a thread is still executing. It returns True if the thread is alive and False otherwise."
   ]
  },
  {
   "cell_type": "markdown",
   "id": "5a3fd96b-4b09-4125-b6a4-65cc1b31241a",
   "metadata": {},
   "source": [
    "#### Q4. Write a python program to create two threads. Thread one must print the list of squares and thread two must print the list of cubes"
   ]
  },
  {
   "cell_type": "code",
   "execution_count": 5,
   "id": "ba6b958f-c5ee-46c2-9f58-8bb27ba85cf8",
   "metadata": {},
   "outputs": [],
   "source": [
    "import threading\n",
    "\n",
    "def print_squares():\n",
    "    for i in range(1, 6):\n",
    "        print(f\"Square of {i} is {i*i}\")\n",
    "\n",
    "def print_cubes():\n",
    "    for i in range(1, 6):\n",
    "        print(f\"Cube of {i} is {i*i*i}\")\n"
   ]
  },
  {
   "cell_type": "code",
   "execution_count": 6,
   "id": "f8ab0d6a-20d8-4cf1-aeb1-4259237a83b2",
   "metadata": {},
   "outputs": [],
   "source": [
    "thread1 = threading.Thread(target=print_squares)\n",
    "thread2 = threading.Thread(target=print_cubes)"
   ]
  },
  {
   "cell_type": "code",
   "execution_count": 7,
   "id": "711bf148-5010-46fe-b5b3-9f8ca86632d0",
   "metadata": {},
   "outputs": [
    {
     "name": "stdout",
     "output_type": "stream",
     "text": [
      "Square of 1 is 1\n",
      "Square of 2 is 4\n",
      "Square of 3 is 9\n",
      "Square of 4 is 16\n",
      "Square of 5 is 25\n",
      "Cube of 1 is 1\n",
      "Cube of 2 is 8\n",
      "Cube of 3 is 27\n",
      "Cube of 4 is 64\n",
      "Cube of 5 is 125\n"
     ]
    }
   ],
   "source": [
    "thread1.start()\n",
    "thread2.start()"
   ]
  },
  {
   "cell_type": "markdown",
   "id": "96efe411-a702-442b-8f7b-d42c4ecf9cc8",
   "metadata": {},
   "source": [
    "#### Q5. State advantages and disadvantages of multithreading"
   ]
  },
  {
   "cell_type": "markdown",
   "id": "44c03b47-210d-4997-8d70-0bb82ef3bfdf",
   "metadata": {},
   "source": [
    "#### Advantages of Multithreading:\n",
    "\n",
    "#### - Enhanced performance: Multithreading can lead to better resource utilization, allowing for parallel execution of tasks and increased overall throughput.\n",
    "\n",
    "#### - Responsiveness: Multithreading can improve the responsiveness of an application by allowing certain operations to continue independently, ensuring that the user interface remains interactive.\n",
    "\n",
    "#### - Resource sharing: Threads within the same process can share the same memory space, enabling efficient communication and data sharing among different parts of the program.\n",
    "\n",
    "#### Disadvantages of Multithreading:\n",
    "\n",
    "#### - Complexity: Multithreaded applications are generally more complex to design, implement, and debug compared to single-threaded applications. Synchronization and communication between threads can lead to intricate programming challenges.\n",
    "\n",
    "#### - Synchronization issues: Accessing shared resources concurrently may lead to issues such as race conditions, deadlocks, and thread starvation, which require careful management to avoid.\n",
    "\n",
    "#### - Debugging difficulties: Identifying and resolving bugs in multithreaded applications can be more challenging due to the inherent non-deterministic behavior introduced by concurrent execution."
   ]
  },
  {
   "cell_type": "markdown",
   "id": "8b1e2321-8a7c-4763-827b-4fcb85f152fc",
   "metadata": {},
   "source": [
    "#### Q6. Explain deadlocks and race conditions."
   ]
  },
  {
   "cell_type": "markdown",
   "id": "86b3f2cf-9dcb-4076-9a68-86c0fd8c7bf7",
   "metadata": {},
   "source": [
    "#### Deadlock occurs when two or more threads are blocked forever, each waiting for the other to release a resource. It leads to a standstill where no progress can be made. \n",
    "\n",
    "#### Race conditions arise when multiple threads access and manipulate shared data concurrently, leading to unpredictable and erroneous outcomes"
   ]
  },
  {
   "cell_type": "code",
   "execution_count": null,
   "id": "49bb875c-c909-45e5-b5e1-8b2c5077a1fc",
   "metadata": {},
   "outputs": [],
   "source": []
  }
 ],
 "metadata": {
  "kernelspec": {
   "display_name": "Python 3 (ipykernel)",
   "language": "python",
   "name": "python3"
  },
  "language_info": {
   "codemirror_mode": {
    "name": "ipython",
    "version": 3
   },
   "file_extension": ".py",
   "mimetype": "text/x-python",
   "name": "python",
   "nbconvert_exporter": "python",
   "pygments_lexer": "ipython3",
   "version": "3.10.8"
  }
 },
 "nbformat": 4,
 "nbformat_minor": 5
}

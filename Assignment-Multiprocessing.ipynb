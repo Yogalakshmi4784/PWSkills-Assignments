{
 "cells": [
  {
   "cell_type": "markdown",
   "id": "bfcaa14b-bd2d-4119-9d20-d2e9ccb3bc3f",
   "metadata": {},
   "source": [
    "#### Q1. What is multiprocessing in python? Why is it useful?"
   ]
  },
  {
   "cell_type": "markdown",
   "id": "3c0ef10e-668c-4b57-85f2-078e16edd67b",
   "metadata": {},
   "source": [
    "#### Multiprocessing in Python refers to the ability to create multiple processes that run parallel to each other. Each process has its own memory space, allowing for true parallel execution on multi-core systems"
   ]
  },
  {
   "cell_type": "markdown",
   "id": "baba800e-a4bc-45ff-b510-fb135d173601",
   "metadata": {},
   "source": [
    "#### Q2. What are the differences between multiprocessing and multithreading?"
   ]
  },
  {
   "cell_type": "markdown",
   "id": "5b4173b7-aec3-4fc8-815b-316cd17e3f3f",
   "metadata": {},
   "source": [
    "#### Memory: Multiprocessing involves separate memory space for each process, while multithreading shares the same memory space.\n",
    "\n",
    "#### CPU Utilization: Multiprocessing is suitable for CPU-bound tasks as it can leverage multiple CPU cores, while multithreading is more appropriate for I/O-bound tasks due to the Global Interpreter Lock (GIL).\n",
    "\n",
    "#### Parallelism: Multiprocessing achieves true parallelism, executing processes simultaneously on multiple CPU cores, while multithreading achieves concurrency by sharing the CPU through time-slicing."
   ]
  },
  {
   "cell_type": "markdown",
   "id": "5a51b567-a475-4f14-b6f8-56f211d1bc24",
   "metadata": {},
   "source": [
    "#### Q3. Write a python code to create a process using the multiprocessing module."
   ]
  },
  {
   "cell_type": "code",
   "execution_count": 1,
   "id": "b0a15718-1684-41aa-9b1b-a54b95135978",
   "metadata": {},
   "outputs": [
    {
     "name": "stdout",
     "output_type": "stream",
     "text": [
      "The square of 5 is 25\n"
     ]
    }
   ],
   "source": [
    "import multiprocessing\n",
    "\n",
    "\n",
    "def print_square(num):\n",
    "    result = num * num\n",
    "    print(f\"The square of {num} is {result}\")\n",
    "\n",
    "if __name__ == '__main__':\n",
    "    \n",
    "    process = multiprocessing.Process(target=print_square, args=(5,))\n",
    "\n",
    "    \n",
    "    process.start()"
   ]
  },
  {
   "cell_type": "markdown",
   "id": "dcd243b7-1869-48a6-ac9d-22dc8d0bfadd",
   "metadata": {},
   "source": [
    "#### Q4. What is a multiprocessing pool in python? Why is it used?"
   ]
  },
  {
   "cell_type": "markdown",
   "id": "3f20ae35-d6e3-479e-8c72-19eff4b53e6e",
   "metadata": {},
   "source": [
    "#### A multiprocessing pool in Python represents a collection of worker processes that can execute tasks concurrently. It's used to distribute independent tasks across multiple processes, enabling parallel execution, efficient utilization of resources, and improved performance, especially for CPU-bound operations, by leveraging the available processor cores."
   ]
  },
  {
   "cell_type": "markdown",
   "id": "f2aca781-d89d-4f1f-9ff9-0d04d922d9bf",
   "metadata": {},
   "source": [
    "#### Q5. How can we create a pool of worker processes in python using the multiprocessing module?"
   ]
  },
  {
   "cell_type": "markdown",
   "id": "d1aee2b8-5f50-4fa0-9bab-3c262191ff65",
   "metadata": {},
   "source": [
    "#### Creating a pool of worker processes in Python can be done using the multiprocessing.Pool class. "
   ]
  },
  {
   "cell_type": "markdown",
   "id": "0ee46460-34cf-4b4e-9508-9113c827a2cd",
   "metadata": {},
   "source": [
    "#### Q6. Write a python program to create 4 processes, each process should print a different number using the multiprocessing module in python."
   ]
  },
  {
   "cell_type": "code",
   "execution_count": 3,
   "id": "6f13626a-aeba-46c0-80e3-bb8ffc5d8f5c",
   "metadata": {},
   "outputs": [
    {
     "name": "stdout",
     "output_type": "stream",
     "text": [
      "Number: 1\n",
      "Number: 2\n",
      "Number: 3\n",
      "Number: 4\n"
     ]
    }
   ],
   "source": [
    "import multiprocessing\n",
    "\n",
    "# Function to print a number\n",
    "def print_number(number):\n",
    "    print(f\"Number: {number}\")\n",
    "\n",
    "if __name__ == '__main__':\n",
    "    processes = []\n",
    "    numbers = [1, 2, 3, 4]\n",
    "\n",
    "    # Creating 4 processes\n",
    "    for number in numbers:\n",
    "        process = multiprocessing.Process(target=print_number, args=(number,))\n",
    "        processes.append(process)\n",
    "        process.start()\n"
   ]
  },
  {
   "cell_type": "code",
   "execution_count": null,
   "id": "26e0addd-b13e-4d4b-833a-696c5b2678f5",
   "metadata": {},
   "outputs": [],
   "source": []
  }
 ],
 "metadata": {
  "kernelspec": {
   "display_name": "Python 3 (ipykernel)",
   "language": "python",
   "name": "python3"
  },
  "language_info": {
   "codemirror_mode": {
    "name": "ipython",
    "version": 3
   },
   "file_extension": ".py",
   "mimetype": "text/x-python",
   "name": "python",
   "nbconvert_exporter": "python",
   "pygments_lexer": "ipython3",
   "version": "3.10.8"
  }
 },
 "nbformat": 4,
 "nbformat_minor": 5
}
